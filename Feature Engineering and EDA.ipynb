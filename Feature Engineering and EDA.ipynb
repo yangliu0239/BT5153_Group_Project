{
 "cells": [
  {
   "cell_type": "code",
   "execution_count": 1,
   "metadata": {},
   "outputs": [],
   "source": [
    "import pandas as pd\n",
    "import numpy as np\n",
    "import matplotlib.pyplot as plt\n",
    "import seaborn as sns\n",
    "import string\n",
    "import sklearn\n",
    "from sklearn.preprocessing import StandardScaler\n",
    "from sklearn.model_selection import train_test_split\n",
    "%matplotlib inline\n",
    "from sklearn.metrics import mean_squared_error\n",
    "import os\n",
    "import datetime\n",
    "\n",
    "from sklearn.linear_model import LinearRegression\n",
    "from sklearn.decomposition import PCA\n",
    "from sklearn.metrics import mean_squared_error\n",
    "from sklearn.metrics import mean_absolute_error\n",
    "from sklearn.metrics import r2_score\n",
    "from sklearn.model_selection import GridSearchCV\n",
    "\n",
    "\n",
    "#os.chdir(\"C:/Users/Common/Desktop/Google Drive/NUS/Semester 2/BT5153-Applied Machine Learning/Group Project/From Microsoft Team/Dataset\")"
   ]
  },
  {
   "cell_type": "code",
   "execution_count": 2,
   "metadata": {},
   "outputs": [],
   "source": [
    "df=pd.read_csv(\"listings_selected.csv\",index_col=\"id\")"
   ]
  },
  {
   "cell_type": "code",
   "execution_count": 3,
   "metadata": {},
   "outputs": [
    {
     "data": {
      "text/html": [
       "<div>\n",
       "<style scoped>\n",
       "    .dataframe tbody tr th:only-of-type {\n",
       "        vertical-align: middle;\n",
       "    }\n",
       "\n",
       "    .dataframe tbody tr th {\n",
       "        vertical-align: top;\n",
       "    }\n",
       "\n",
       "    .dataframe thead th {\n",
       "        text-align: right;\n",
       "    }\n",
       "</style>\n",
       "<table border=\"1\" class=\"dataframe\">\n",
       "  <thead>\n",
       "    <tr style=\"text-align: right;\">\n",
       "      <th></th>\n",
       "      <th>scrape_id</th>\n",
       "      <th>last_scraped</th>\n",
       "      <th>picture_url</th>\n",
       "      <th>host_is_superhost</th>\n",
       "      <th>neighbourhood_cleansed</th>\n",
       "      <th>neighbourhood_group_cleansed</th>\n",
       "      <th>latitude</th>\n",
       "      <th>longitude</th>\n",
       "      <th>property_type</th>\n",
       "      <th>room_type</th>\n",
       "      <th>...</th>\n",
       "      <th>number_of_reviews</th>\n",
       "      <th>review_scores_rating</th>\n",
       "      <th>review_scores_accuracy</th>\n",
       "      <th>review_scores_cleanliness</th>\n",
       "      <th>review_scores_checkin</th>\n",
       "      <th>review_scores_communication</th>\n",
       "      <th>review_scores_location</th>\n",
       "      <th>review_scores_value</th>\n",
       "      <th>cancellation_policy</th>\n",
       "      <th>reviews_per_month</th>\n",
       "    </tr>\n",
       "    <tr>\n",
       "      <th>id</th>\n",
       "      <th></th>\n",
       "      <th></th>\n",
       "      <th></th>\n",
       "      <th></th>\n",
       "      <th></th>\n",
       "      <th></th>\n",
       "      <th></th>\n",
       "      <th></th>\n",
       "      <th></th>\n",
       "      <th></th>\n",
       "      <th></th>\n",
       "      <th></th>\n",
       "      <th></th>\n",
       "      <th></th>\n",
       "      <th></th>\n",
       "      <th></th>\n",
       "      <th></th>\n",
       "      <th></th>\n",
       "      <th></th>\n",
       "      <th></th>\n",
       "      <th></th>\n",
       "    </tr>\n",
       "  </thead>\n",
       "  <tbody>\n",
       "    <tr>\n",
       "      <th>49091</th>\n",
       "      <td>20190318042744</td>\n",
       "      <td>43542</td>\n",
       "      <td>https://a0.muscache.com/im/pictures/24485541/6...</td>\n",
       "      <td>f</td>\n",
       "      <td>Woodlands</td>\n",
       "      <td>North Region</td>\n",
       "      <td>1.44255</td>\n",
       "      <td>103.79580</td>\n",
       "      <td>Apartment</td>\n",
       "      <td>Private room</td>\n",
       "      <td>...</td>\n",
       "      <td>1</td>\n",
       "      <td>94.0</td>\n",
       "      <td>10.0</td>\n",
       "      <td>10.0</td>\n",
       "      <td>10.0</td>\n",
       "      <td>10.0</td>\n",
       "      <td>8.0</td>\n",
       "      <td>8.0</td>\n",
       "      <td>flexible</td>\n",
       "      <td>0.02</td>\n",
       "    </tr>\n",
       "    <tr>\n",
       "      <th>50646</th>\n",
       "      <td>20190318042744</td>\n",
       "      <td>43542</td>\n",
       "      <td>https://a0.muscache.com/im/pictures/36342984/6...</td>\n",
       "      <td>f</td>\n",
       "      <td>Bukit Timah</td>\n",
       "      <td>Central Region</td>\n",
       "      <td>1.33235</td>\n",
       "      <td>103.78521</td>\n",
       "      <td>Apartment</td>\n",
       "      <td>Private room</td>\n",
       "      <td>...</td>\n",
       "      <td>18</td>\n",
       "      <td>91.0</td>\n",
       "      <td>9.0</td>\n",
       "      <td>10.0</td>\n",
       "      <td>10.0</td>\n",
       "      <td>10.0</td>\n",
       "      <td>9.0</td>\n",
       "      <td>9.0</td>\n",
       "      <td>moderate</td>\n",
       "      <td>0.30</td>\n",
       "    </tr>\n",
       "    <tr>\n",
       "      <th>56334</th>\n",
       "      <td>20190318042744</td>\n",
       "      <td>43542</td>\n",
       "      <td>https://a0.muscache.com/im/pictures/20783922/1...</td>\n",
       "      <td>f</td>\n",
       "      <td>Woodlands</td>\n",
       "      <td>North Region</td>\n",
       "      <td>1.44246</td>\n",
       "      <td>103.79667</td>\n",
       "      <td>Apartment</td>\n",
       "      <td>Private room</td>\n",
       "      <td>...</td>\n",
       "      <td>20</td>\n",
       "      <td>98.0</td>\n",
       "      <td>10.0</td>\n",
       "      <td>10.0</td>\n",
       "      <td>10.0</td>\n",
       "      <td>10.0</td>\n",
       "      <td>8.0</td>\n",
       "      <td>9.0</td>\n",
       "      <td>flexible</td>\n",
       "      <td>0.21</td>\n",
       "    </tr>\n",
       "    <tr>\n",
       "      <th>71609</th>\n",
       "      <td>20190318042744</td>\n",
       "      <td>43542</td>\n",
       "      <td>https://a0.muscache.com/im/pictures/24453191/3...</td>\n",
       "      <td>f</td>\n",
       "      <td>Tampines</td>\n",
       "      <td>East Region</td>\n",
       "      <td>1.34541</td>\n",
       "      <td>103.95712</td>\n",
       "      <td>Villa</td>\n",
       "      <td>Private room</td>\n",
       "      <td>...</td>\n",
       "      <td>12</td>\n",
       "      <td>80.0</td>\n",
       "      <td>8.0</td>\n",
       "      <td>8.0</td>\n",
       "      <td>9.0</td>\n",
       "      <td>9.0</td>\n",
       "      <td>8.0</td>\n",
       "      <td>8.0</td>\n",
       "      <td>moderate</td>\n",
       "      <td>0.14</td>\n",
       "    </tr>\n",
       "    <tr>\n",
       "      <th>71896</th>\n",
       "      <td>20190318042744</td>\n",
       "      <td>43542</td>\n",
       "      <td>https://a0.muscache.com/im/pictures/2440674/ac...</td>\n",
       "      <td>f</td>\n",
       "      <td>Tampines</td>\n",
       "      <td>East Region</td>\n",
       "      <td>1.34567</td>\n",
       "      <td>103.95963</td>\n",
       "      <td>House</td>\n",
       "      <td>Private room</td>\n",
       "      <td>...</td>\n",
       "      <td>20</td>\n",
       "      <td>80.0</td>\n",
       "      <td>8.0</td>\n",
       "      <td>8.0</td>\n",
       "      <td>9.0</td>\n",
       "      <td>9.0</td>\n",
       "      <td>8.0</td>\n",
       "      <td>8.0</td>\n",
       "      <td>moderate</td>\n",
       "      <td>0.22</td>\n",
       "    </tr>\n",
       "  </tbody>\n",
       "</table>\n",
       "<p>5 rows × 31 columns</p>\n",
       "</div>"
      ],
      "text/plain": [
       "            scrape_id  last_scraped  \\\n",
       "id                                    \n",
       "49091  20190318042744         43542   \n",
       "50646  20190318042744         43542   \n",
       "56334  20190318042744         43542   \n",
       "71609  20190318042744         43542   \n",
       "71896  20190318042744         43542   \n",
       "\n",
       "                                             picture_url host_is_superhost  \\\n",
       "id                                                                           \n",
       "49091  https://a0.muscache.com/im/pictures/24485541/6...                 f   \n",
       "50646  https://a0.muscache.com/im/pictures/36342984/6...                 f   \n",
       "56334  https://a0.muscache.com/im/pictures/20783922/1...                 f   \n",
       "71609  https://a0.muscache.com/im/pictures/24453191/3...                 f   \n",
       "71896  https://a0.muscache.com/im/pictures/2440674/ac...                 f   \n",
       "\n",
       "      neighbourhood_cleansed neighbourhood_group_cleansed  latitude  \\\n",
       "id                                                                    \n",
       "49091              Woodlands                 North Region   1.44255   \n",
       "50646            Bukit Timah               Central Region   1.33235   \n",
       "56334              Woodlands                 North Region   1.44246   \n",
       "71609               Tampines                  East Region   1.34541   \n",
       "71896               Tampines                  East Region   1.34567   \n",
       "\n",
       "       longitude property_type     room_type  ...  number_of_reviews  \\\n",
       "id                                            ...                      \n",
       "49091  103.79580     Apartment  Private room  ...                  1   \n",
       "50646  103.78521     Apartment  Private room  ...                 18   \n",
       "56334  103.79667     Apartment  Private room  ...                 20   \n",
       "71609  103.95712         Villa  Private room  ...                 12   \n",
       "71896  103.95963         House  Private room  ...                 20   \n",
       "\n",
       "       review_scores_rating  review_scores_accuracy  \\\n",
       "id                                                    \n",
       "49091                  94.0                    10.0   \n",
       "50646                  91.0                     9.0   \n",
       "56334                  98.0                    10.0   \n",
       "71609                  80.0                     8.0   \n",
       "71896                  80.0                     8.0   \n",
       "\n",
       "       review_scores_cleanliness review_scores_checkin  \\\n",
       "id                                                       \n",
       "49091                       10.0                  10.0   \n",
       "50646                       10.0                  10.0   \n",
       "56334                       10.0                  10.0   \n",
       "71609                        8.0                   9.0   \n",
       "71896                        8.0                   9.0   \n",
       "\n",
       "      review_scores_communication  review_scores_location  \\\n",
       "id                                                          \n",
       "49091                        10.0                     8.0   \n",
       "50646                        10.0                     9.0   \n",
       "56334                        10.0                     8.0   \n",
       "71609                         9.0                     8.0   \n",
       "71896                         9.0                     8.0   \n",
       "\n",
       "       review_scores_value  cancellation_policy  reviews_per_month  \n",
       "id                                                                  \n",
       "49091                  8.0             flexible               0.02  \n",
       "50646                  9.0             moderate               0.30  \n",
       "56334                  9.0             flexible               0.21  \n",
       "71609                  8.0             moderate               0.14  \n",
       "71896                  8.0             moderate               0.22  \n",
       "\n",
       "[5 rows x 31 columns]"
      ]
     },
     "execution_count": 3,
     "metadata": {},
     "output_type": "execute_result"
    }
   ],
   "source": [
    "df.head()"
   ]
  },
  {
   "cell_type": "code",
   "execution_count": 903,
   "metadata": {},
   "outputs": [
    {
     "data": {
      "text/plain": [
       "(71949, 31)"
      ]
     },
     "execution_count": 903,
     "metadata": {},
     "output_type": "execute_result"
    }
   ],
   "source": [
    "df.shape"
   ]
  },
  {
   "cell_type": "code",
   "execution_count": 1121,
   "metadata": {},
   "outputs": [
    {
     "name": "stdout",
     "output_type": "stream",
     "text": [
      "<class 'pandas.core.frame.DataFrame'>\n",
      "RangeIndex: 44025 entries, 0 to 44024\n",
      "Data columns (total 43 columns):\n",
      "picture_url                                        44025 non-null object\n",
      "accommodates                                       44025 non-null int64\n",
      "bathrooms                                          44025 non-null float64\n",
      "bedrooms                                           44025 non-null float64\n",
      "beds                                               44025 non-null float64\n",
      "price                                              44025 non-null float64\n",
      "security_deposit                                   44025 non-null float64\n",
      "cleaning_fee                                       44025 non-null float64\n",
      "guests_included                                    44025 non-null int64\n",
      "availability_30                                    44025 non-null int64\n",
      "review_scores_rating                               44025 non-null float64\n",
      "reviews_per_month                                  44025 non-null float64\n",
      "num_amenities                                      44025 non-null int64\n",
      "amenity_length                                     44025 non-null float64\n",
      "tot_arrival                                        44025 non-null int64\n",
      "host_is_superhost_t                                44025 non-null int64\n",
      "neighbourhood_group_cleansed_East_Region           44025 non-null int64\n",
      "neighbourhood_group_cleansed_North_Region          44025 non-null int64\n",
      "neighbourhood_group_cleansed_North-East_Region     44025 non-null int64\n",
      "neighbourhood_group_cleansed_West_Region           44025 non-null int64\n",
      "property_type_Condominium                          44025 non-null int64\n",
      "property_type_Hostel                               44025 non-null int64\n",
      "property_type_House                                44025 non-null int64\n",
      "property_type_Serviced_apartment                   44025 non-null int64\n",
      "property_type_others                               44025 non-null int64\n",
      "room_type_Hotel_room                               44025 non-null int64\n",
      "room_type_Private_room                             44025 non-null int64\n",
      "room_type_Shared_room                              44025 non-null int64\n",
      "bed_type_Futon                                     44025 non-null int64\n",
      "bed_type_Pull-out_Sofa                             44025 non-null int64\n",
      "bed_type_Real_Bed                                  44025 non-null int64\n",
      "cancellation_policy_moderate                       44025 non-null int64\n",
      "cancellation_policy_strict                         44025 non-null int64\n",
      "cancellation_policy_strict_14_with_grace_period    44025 non-null int64\n",
      "cancellation_policy_super_strict_30                44025 non-null int64\n",
      "month_2019-04-01                                   44025 non-null int64\n",
      "month_2019-05-01                                   44025 non-null int64\n",
      "month_2019-06-01                                   44025 non-null int64\n",
      "month_2019-07-01                                   44025 non-null int64\n",
      "month_2019-08-01                                   44025 non-null int64\n",
      "month_2019-09-01                                   44025 non-null int64\n",
      "month_2019-10-01                                   44025 non-null int64\n",
      "month_2019-11-01                                   44025 non-null int64\n",
      "dtypes: float64(9), int64(33), object(1)\n",
      "memory usage: 14.4+ MB\n"
     ]
    }
   ],
   "source": [
    "df.info()"
   ]
  },
  {
   "cell_type": "code",
   "execution_count": 904,
   "metadata": {},
   "outputs": [
    {
     "data": {
      "text/plain": [
       "scrape_id                           0\n",
       "last_scraped                        0\n",
       "picture_url                         0\n",
       "host_is_superhost                  96\n",
       "neighbourhood_cleansed              0\n",
       "neighbourhood_group_cleansed        0\n",
       "latitude                            0\n",
       "longitude                           0\n",
       "property_type                       0\n",
       "room_type                           0\n",
       "accommodates                        0\n",
       "bathrooms                          52\n",
       "bedrooms                           31\n",
       "beds                              151\n",
       "bed_type                            0\n",
       "amenities                           0\n",
       "price                               0\n",
       "security_deposit                21355\n",
       "cleaning_fee                    19595\n",
       "guests_included                     0\n",
       "availability_30                     0\n",
       "number_of_reviews                   0\n",
       "review_scores_rating            27512\n",
       "review_scores_accuracy          27559\n",
       "review_scores_cleanliness       27535\n",
       "review_scores_checkin           27599\n",
       "review_scores_communication     27559\n",
       "review_scores_location          27606\n",
       "review_scores_value             27601\n",
       "cancellation_policy                 0\n",
       "reviews_per_month               26226\n",
       "dtype: int64"
      ]
     },
     "execution_count": 904,
     "metadata": {},
     "output_type": "execute_result"
    }
   ],
   "source": [
    "df.isnull().sum()"
   ]
  },
  {
   "cell_type": "markdown",
   "metadata": {},
   "source": [
    "# 1. Keep only Review Score rating, drop all other review scores"
   ]
  },
  {
   "cell_type": "code",
   "execution_count": 905,
   "metadata": {},
   "outputs": [],
   "source": [
    "df_1=df.drop(['review_scores_accuracy', 'review_scores_cleanliness',\n",
    "         'review_scores_checkin','review_scores_communication',\n",
    "         'review_scores_location','review_scores_value'], axis=1)"
   ]
  },
  {
   "cell_type": "code",
   "execution_count": 906,
   "metadata": {},
   "outputs": [
    {
     "data": {
      "text/plain": [
       "(71949, 25)"
      ]
     },
     "execution_count": 906,
     "metadata": {},
     "output_type": "execute_result"
    }
   ],
   "source": [
    "df_1.shape"
   ]
  },
  {
   "cell_type": "code",
   "execution_count": 907,
   "metadata": {},
   "outputs": [
    {
     "data": {
      "text/plain": [
       "scrape_id                           0\n",
       "last_scraped                        0\n",
       "picture_url                         0\n",
       "host_is_superhost                  96\n",
       "neighbourhood_cleansed              0\n",
       "neighbourhood_group_cleansed        0\n",
       "latitude                            0\n",
       "longitude                           0\n",
       "property_type                       0\n",
       "room_type                           0\n",
       "accommodates                        0\n",
       "bathrooms                          52\n",
       "bedrooms                           31\n",
       "beds                              151\n",
       "bed_type                            0\n",
       "amenities                           0\n",
       "price                               0\n",
       "security_deposit                21355\n",
       "cleaning_fee                    19595\n",
       "guests_included                     0\n",
       "availability_30                     0\n",
       "number_of_reviews                   0\n",
       "review_scores_rating            27512\n",
       "cancellation_policy                 0\n",
       "reviews_per_month               26226\n",
       "dtype: int64"
      ]
     },
     "execution_count": 907,
     "metadata": {},
     "output_type": "execute_result"
    }
   ],
   "source": [
    "df_1.isnull().sum()"
   ]
  },
  {
   "cell_type": "markdown",
   "metadata": {},
   "source": [
    "# 2. Deal with null cell"
   ]
  },
  {
   "cell_type": "markdown",
   "metadata": {},
   "source": [
    "**2.1 drop missing rows for review score is missing**"
   ]
  },
  {
   "cell_type": "code",
   "execution_count": 908,
   "metadata": {},
   "outputs": [],
   "source": [
    "df_2=df_1.dropna(subset=['review_scores_rating'])"
   ]
  },
  {
   "cell_type": "code",
   "execution_count": 909,
   "metadata": {},
   "outputs": [
    {
     "data": {
      "text/plain": [
       "(44437, 25)"
      ]
     },
     "execution_count": 909,
     "metadata": {},
     "output_type": "execute_result"
    }
   ],
   "source": [
    "df_2.shape"
   ]
  },
  {
   "cell_type": "code",
   "execution_count": 910,
   "metadata": {},
   "outputs": [
    {
     "data": {
      "text/plain": [
       "scrape_id                           0\n",
       "last_scraped                        0\n",
       "picture_url                         0\n",
       "host_is_superhost                  87\n",
       "neighbourhood_cleansed              0\n",
       "neighbourhood_group_cleansed        0\n",
       "latitude                            0\n",
       "longitude                           0\n",
       "property_type                       0\n",
       "room_type                           0\n",
       "accommodates                        0\n",
       "bathrooms                          18\n",
       "bedrooms                            2\n",
       "beds                               44\n",
       "bed_type                            0\n",
       "amenities                           0\n",
       "price                               0\n",
       "security_deposit                11135\n",
       "cleaning_fee                    10127\n",
       "guests_included                     0\n",
       "availability_30                     0\n",
       "number_of_reviews                   0\n",
       "review_scores_rating                0\n",
       "cancellation_policy                 0\n",
       "reviews_per_month                  13\n",
       "dtype: int64"
      ]
     },
     "execution_count": 910,
     "metadata": {},
     "output_type": "execute_result"
    }
   ],
   "source": [
    "df_2.isnull().sum()"
   ]
  },
  {
   "cell_type": "markdown",
   "metadata": {},
   "source": [
    "**2.2 Other variable**"
   ]
  },
  {
   "cell_type": "code",
   "execution_count": 911,
   "metadata": {},
   "outputs": [
    {
     "data": {
      "text/plain": [
       "[(0.0, 600.0)]"
      ]
     },
     "execution_count": 911,
     "metadata": {},
     "output_type": "execute_result"
    },
    {
     "data": {
      "image/png": "[encoded data removed]",
      "text/plain": [
       "<Figure size 432x288 with 1 Axes>"
      ]
     },
     "metadata": {},
     "output_type": "display_data"
    }
   ],
   "source": [
    "import seaborn as sns\n",
    "sns.set_style(\"whitegrid\")\n",
    "# tips = sns.load_dataset(\"tips\")\n",
    "ax = sns.boxplot(x=\"host_is_superhost\", y=\"price\", data=df_2)\n",
    "ax.set(ylim=(0, 600))"
   ]
  },
  {
   "cell_type": "markdown",
   "metadata": {},
   "source": [
    "**Super host price distribution is higher than non-super host => consider to put all missing value as default = false**"
   ]
  },
  {
   "cell_type": "code",
   "execution_count": 912,
   "metadata": {},
   "outputs": [
    {
     "name": "stderr",
     "output_type": "stream",
     "text": [
      "C:\\Users\\ivyde\\Anaconda3\\lib\\site-packages\\pandas\\core\\frame.py:3494: SettingWithCopyWarning: \n",
      "A value is trying to be set on a copy of a slice from a DataFrame.\n",
      "Try using .loc[row_indexer,col_indexer] = value instead\n",
      "\n",
      "See the caveats in the documentation: http://pandas.pydata.org/pandas-docs/stable/user_guide/indexing.html#returning-a-view-versus-a-copy\n",
      "  self[k1] = value[k2]\n"
     ]
    }
   ],
   "source": [
    "df_2[['host_is_superhost']] = df_2[['host_is_superhost']].fillna(value='f')"
   ]
  },
  {
   "cell_type": "code",
   "execution_count": 913,
   "metadata": {},
   "outputs": [
    {
     "data": {
      "text/plain": [
       "f    35401\n",
       "t     9036\n",
       "Name: host_is_superhost, dtype: int64"
      ]
     },
     "execution_count": 913,
     "metadata": {},
     "output_type": "execute_result"
    }
   ],
   "source": [
    "df_2.host_is_superhost.value_counts()"
   ]
  },
  {
   "cell_type": "markdown",
   "metadata": {},
   "source": [
    "**Bathroom - remove outlier based on 3sigma - replace outlier and empty value with mean**"
   ]
  },
  {
   "cell_type": "code",
   "execution_count": 914,
   "metadata": {},
   "outputs": [
    {
     "data": {
      "image/png": "[encoded data removed]",
      "text/plain": [
       "<Figure size 432x288 with 1 Axes>"
      ]
     },
     "metadata": {},
     "output_type": "display_data"
    }
   ],
   "source": [
    "sns.set_style(\"whitegrid\")\n",
    "# tips = sns.load_dataset(\"tips\")\n",
    "ax = sns.boxplot(x=\"bathrooms\", data=df_2)\n",
    "#ax.set(xlim=(0, 5))"
   ]
  },
  {
   "cell_type": "code",
   "execution_count": 915,
   "metadata": {},
   "outputs": [
    {
     "data": {
      "text/plain": [
       "count    44419.000000\n",
       "mean         1.587676\n",
       "std          1.338650\n",
       "min          0.000000\n",
       "50%          1.000000\n",
       "99.7%        8.500000\n",
       "max         50.000000\n",
       "Name: bathrooms, dtype: float64"
      ]
     },
     "execution_count": 915,
     "metadata": {},
     "output_type": "execute_result"
    }
   ],
   "source": [
    "#3 sigma place at 99.7%\n",
    "df_2.bathrooms.describe([0.997])"
   ]
  },
  {
   "cell_type": "code",
   "execution_count": 916,
   "metadata": {},
   "outputs": [
    {
     "name": "stderr",
     "output_type": "stream",
     "text": [
      "C:\\Users\\ivyde\\Anaconda3\\lib\\site-packages\\ipykernel_launcher.py:1: SettingWithCopyWarning: \n",
      "A value is trying to be set on a copy of a slice from a DataFrame.\n",
      "Try using .loc[row_indexer,col_indexer] = value instead\n",
      "\n",
      "See the caveats in the documentation: http://pandas.pydata.org/pandas-docs/stable/user_guide/indexing.html#returning-a-view-versus-a-copy\n",
      "  \"\"\"Entry point for launching an IPython kernel.\n"
     ]
    }
   ],
   "source": [
    "df_2['bathrooms']=df_2.bathrooms.where(df_2.bathrooms<=8.5, other=np.nan)"
   ]
  },
  {
   "cell_type": "code",
   "execution_count": 917,
   "metadata": {},
   "outputs": [
    {
     "data": {
      "text/plain": [
       "count    44319.000000\n",
       "mean         1.557955\n",
       "std          1.070656\n",
       "min          0.000000\n",
       "25%          1.000000\n",
       "50%          1.000000\n",
       "75%          2.000000\n",
       "max          8.500000\n",
       "Name: bathrooms, dtype: float64"
      ]
     },
     "execution_count": 917,
     "metadata": {},
     "output_type": "execute_result"
    }
   ],
   "source": [
    "df_2.bathrooms.describe()"
   ]
  },
  {
   "cell_type": "code",
   "execution_count": 918,
   "metadata": {},
   "outputs": [
    {
     "name": "stderr",
     "output_type": "stream",
     "text": [
      "C:\\Users\\ivyde\\Anaconda3\\lib\\site-packages\\ipykernel_launcher.py:1: SettingWithCopyWarning: \n",
      "A value is trying to be set on a copy of a slice from a DataFrame.\n",
      "Try using .loc[row_indexer,col_indexer] = value instead\n",
      "\n",
      "See the caveats in the documentation: http://pandas.pydata.org/pandas-docs/stable/user_guide/indexing.html#returning-a-view-versus-a-copy\n",
      "  \"\"\"Entry point for launching an IPython kernel.\n"
     ]
    }
   ],
   "source": [
    "df_2['bathrooms']=df_2.bathrooms.fillna(df_2.bathrooms.median())"
   ]
  },
  {
   "cell_type": "code",
   "execution_count": 919,
   "metadata": {},
   "outputs": [
    {
     "data": {
      "text/plain": [
       "count    44437.000000\n",
       "mean         1.556473\n",
       "std          1.069619\n",
       "min          0.000000\n",
       "25%          1.000000\n",
       "50%          1.000000\n",
       "75%          2.000000\n",
       "max          8.500000\n",
       "Name: bathrooms, dtype: float64"
      ]
     },
     "execution_count": 919,
     "metadata": {},
     "output_type": "execute_result"
    }
   ],
   "source": [
    "df_2.bathrooms.describe()"
   ]
  },
  {
   "cell_type": "code",
   "execution_count": 920,
   "metadata": {},
   "outputs": [],
   "source": [
    "# def remove_outlier(x,outlier):\n",
    "#     value=x\n",
    "#     if x>outlier:\n",
    "#         x=np.nan\n",
    "#     else:\n",
    "#         x=value"
   ]
  },
  {
   "cell_type": "code",
   "execution_count": 921,
   "metadata": {},
   "outputs": [],
   "source": [
    "# df_3.loc[:,\"bathrooms\"] = df_3.bathrooms.apply(lambda x : remove_outlier(x))"
   ]
  },
  {
   "cell_type": "markdown",
   "metadata": {},
   "source": [
    "**Bedroom - remove outlier based on 3sigma - replace outlier and empty value with mean**"
   ]
  },
  {
   "cell_type": "code",
   "execution_count": 922,
   "metadata": {},
   "outputs": [
    {
     "data": {
      "text/plain": [
       "count    44435.000000\n",
       "mean         1.303725\n",
       "std          1.119467\n",
       "min          0.000000\n",
       "50%          1.000000\n",
       "99.7%        6.000000\n",
       "max         50.000000\n",
       "Name: bedrooms, dtype: float64"
      ]
     },
     "execution_count": 922,
     "metadata": {},
     "output_type": "execute_result"
    }
   ],
   "source": [
    "df_2.bedrooms.describe([0.997])"
   ]
  },
  {
   "cell_type": "code",
   "execution_count": 923,
   "metadata": {},
   "outputs": [
    {
     "name": "stderr",
     "output_type": "stream",
     "text": [
      "C:\\Users\\ivyde\\Anaconda3\\lib\\site-packages\\ipykernel_launcher.py:1: SettingWithCopyWarning: \n",
      "A value is trying to be set on a copy of a slice from a DataFrame.\n",
      "Try using .loc[row_indexer,col_indexer] = value instead\n",
      "\n",
      "See the caveats in the documentation: http://pandas.pydata.org/pandas-docs/stable/user_guide/indexing.html#returning-a-view-versus-a-copy\n",
      "  \"\"\"Entry point for launching an IPython kernel.\n",
      "C:\\Users\\ivyde\\Anaconda3\\lib\\site-packages\\ipykernel_launcher.py:2: SettingWithCopyWarning: \n",
      "A value is trying to be set on a copy of a slice from a DataFrame.\n",
      "Try using .loc[row_indexer,col_indexer] = value instead\n",
      "\n",
      "See the caveats in the documentation: http://pandas.pydata.org/pandas-docs/stable/user_guide/indexing.html#returning-a-view-versus-a-copy\n",
      "  \n"
     ]
    }
   ],
   "source": [
    "df_2['bedrooms']=df_2.bedrooms.where(df_2.bedrooms<=6, other=np.nan)\n",
    "df_2['bedrooms']=df_2.bedrooms.fillna(df_2.bedrooms.median())"
   ]
  },
  {
   "cell_type": "code",
   "execution_count": 924,
   "metadata": {},
   "outputs": [
    {
     "data": {
      "text/plain": [
       "count    44437.000000\n",
       "mean         1.286631\n",
       "std          0.872977\n",
       "min          0.000000\n",
       "25%          1.000000\n",
       "50%          1.000000\n",
       "75%          2.000000\n",
       "max          6.000000\n",
       "Name: bedrooms, dtype: float64"
      ]
     },
     "execution_count": 924,
     "metadata": {},
     "output_type": "execute_result"
    }
   ],
   "source": [
    "df_2.bedrooms.describe()"
   ]
  },
  {
   "cell_type": "markdown",
   "metadata": {},
   "source": [
    "**Bed - seems no outlier, replace null with median**"
   ]
  },
  {
   "cell_type": "code",
   "execution_count": 925,
   "metadata": {},
   "outputs": [
    {
     "data": {
      "text/plain": [
       "count    44393.000000\n",
       "mean         2.130246\n",
       "std          2.533889\n",
       "min          0.000000\n",
       "50%          1.000000\n",
       "99.7%       18.000000\n",
       "max         36.000000\n",
       "Name: beds, dtype: float64"
      ]
     },
     "execution_count": 925,
     "metadata": {},
     "output_type": "execute_result"
    }
   ],
   "source": [
    "df_2.beds.describe([0.997])"
   ]
  },
  {
   "cell_type": "code",
   "execution_count": 926,
   "metadata": {},
   "outputs": [
    {
     "data": {
      "image/png": "[encoded data removed]",
      "text/plain": [
       "<Figure size 432x288 with 1 Axes>"
      ]
     },
     "metadata": {},
     "output_type": "display_data"
    }
   ],
   "source": [
    "sns.set_style(\"whitegrid\")\n",
    "# tips = sns.load_dataset(\"tips\")\n",
    "ax = sns.boxplot(x=\"beds\", data=df_2)\n",
    "#ax.set(xlim=(0, 5))"
   ]
  },
  {
   "cell_type": "code",
   "execution_count": 927,
   "metadata": {},
   "outputs": [
    {
     "name": "stderr",
     "output_type": "stream",
     "text": [
      "C:\\Users\\ivyde\\Anaconda3\\lib\\site-packages\\ipykernel_launcher.py:1: SettingWithCopyWarning: \n",
      "A value is trying to be set on a copy of a slice from a DataFrame.\n",
      "Try using .loc[row_indexer,col_indexer] = value instead\n",
      "\n",
      "See the caveats in the documentation: http://pandas.pydata.org/pandas-docs/stable/user_guide/indexing.html#returning-a-view-versus-a-copy\n",
      "  \"\"\"Entry point for launching an IPython kernel.\n"
     ]
    }
   ],
   "source": [
    "df_2['beds']=df_2.beds.fillna(df_2.beds.median())"
   ]
  },
  {
   "cell_type": "markdown",
   "metadata": {},
   "source": [
    "**Security deposit**"
   ]
  },
  {
   "cell_type": "code",
   "execution_count": 928,
   "metadata": {},
   "outputs": [
    {
     "data": {
      "image/png": "[encoded data removed]",
      "text/plain": [
       "<Figure size 432x288 with 1 Axes>"
      ]
     },
     "metadata": {},
     "output_type": "display_data"
    }
   ],
   "source": [
    "sns.set_style(\"whitegrid\")\n",
    "# tips = sns.load_dataset(\"tips\")\n",
    "ax = sns.boxplot(x=\"security_deposit\", data=df_2)\n",
    "# ax.set(xlim=(0, 2500))"
   ]
  },
  {
   "cell_type": "code",
   "execution_count": 929,
   "metadata": {},
   "outputs": [
    {
     "data": {
      "text/plain": [
       "count    33302.000000\n",
       "mean       233.061137\n",
       "std        358.083818\n",
       "min          0.000000\n",
       "50%        190.000000\n",
       "99%       1388.900000\n",
       "max       6944.000000\n",
       "Name: security_deposit, dtype: float64"
      ]
     },
     "execution_count": 929,
     "metadata": {},
     "output_type": "execute_result"
    }
   ],
   "source": [
    "df_2.security_deposit.describe([0.99])"
   ]
  },
  {
   "cell_type": "code",
   "execution_count": 930,
   "metadata": {},
   "outputs": [
    {
     "name": "stderr",
     "output_type": "stream",
     "text": [
      "C:\\Users\\ivyde\\Anaconda3\\lib\\site-packages\\pandas\\core\\generic.py:6287: SettingWithCopyWarning: \n",
      "A value is trying to be set on a copy of a slice from a DataFrame\n",
      "\n",
      "See the caveats in the documentation: http://pandas.pydata.org/pandas-docs/stable/user_guide/indexing.html#returning-a-view-versus-a-copy\n",
      "  self._update_inplace(new_data)\n"
     ]
    }
   ],
   "source": [
    "df_2['security_deposit'].fillna(0, inplace = True) "
   ]
  },
  {
   "cell_type": "code",
   "execution_count": 931,
   "metadata": {},
   "outputs": [
    {
     "name": "stderr",
     "output_type": "stream",
     "text": [
      "C:\\Users\\ivyde\\Anaconda3\\lib\\site-packages\\ipykernel_launcher.py:1: SettingWithCopyWarning: \n",
      "A value is trying to be set on a copy of a slice from a DataFrame.\n",
      "Try using .loc[row_indexer,col_indexer] = value instead\n",
      "\n",
      "See the caveats in the documentation: http://pandas.pydata.org/pandas-docs/stable/user_guide/indexing.html#returning-a-view-versus-a-copy\n",
      "  \"\"\"Entry point for launching an IPython kernel.\n",
      "C:\\Users\\ivyde\\Anaconda3\\lib\\site-packages\\ipykernel_launcher.py:2: SettingWithCopyWarning: \n",
      "A value is trying to be set on a copy of a slice from a DataFrame.\n",
      "Try using .loc[row_indexer,col_indexer] = value instead\n",
      "\n",
      "See the caveats in the documentation: http://pandas.pydata.org/pandas-docs/stable/user_guide/indexing.html#returning-a-view-versus-a-copy\n",
      "  \n"
     ]
    }
   ],
   "source": [
    "df_2['security_deposit']=df_2.security_deposit.where(df_2.security_deposit<1389, other=np.nan)\n",
    "df_2['security_deposit']=df_2.security_deposit.fillna(df_2.security_deposit.median())"
   ]
  },
  {
   "cell_type": "markdown",
   "metadata": {},
   "source": [
    "**cleaning fee**"
   ]
  },
  {
   "cell_type": "code",
   "execution_count": 932,
   "metadata": {},
   "outputs": [
    {
     "data": {
      "image/png": "[encoded data removed]",
      "text/plain": [
       "<Figure size 432x288 with 1 Axes>"
      ]
     },
     "metadata": {},
     "output_type": "display_data"
    }
   ],
   "source": [
    "sns.set_style(\"whitegrid\")\n",
    "# tips = sns.load_dataset(\"tips\")\n",
    "ax = sns.boxplot(x=\"cleaning_fee\", data=df_2)\n",
    "# ax.set(xlim=(0, 2500))"
   ]
  },
  {
   "cell_type": "code",
   "execution_count": 933,
   "metadata": {},
   "outputs": [
    {
     "data": {
      "text/plain": [
       "count    34310.000000\n",
       "mean        37.719819\n",
       "std         38.410563\n",
       "min          0.000000\n",
       "50%         30.000000\n",
       "99%        150.000000\n",
       "max        822.000000\n",
       "Name: cleaning_fee, dtype: float64"
      ]
     },
     "execution_count": 933,
     "metadata": {},
     "output_type": "execute_result"
    }
   ],
   "source": [
    "df_2.cleaning_fee.describe([0.99])"
   ]
  },
  {
   "cell_type": "code",
   "execution_count": 934,
   "metadata": {},
   "outputs": [
    {
     "name": "stderr",
     "output_type": "stream",
     "text": [
      "C:\\Users\\ivyde\\Anaconda3\\lib\\site-packages\\pandas\\core\\generic.py:6287: SettingWithCopyWarning: \n",
      "A value is trying to be set on a copy of a slice from a DataFrame\n",
      "\n",
      "See the caveats in the documentation: http://pandas.pydata.org/pandas-docs/stable/user_guide/indexing.html#returning-a-view-versus-a-copy\n",
      "  self._update_inplace(new_data)\n"
     ]
    }
   ],
   "source": [
    "df_2['cleaning_fee'].fillna(0, inplace = True) "
   ]
  },
  {
   "cell_type": "code",
   "execution_count": 935,
   "metadata": {
    "scrolled": true
   },
   "outputs": [
    {
     "name": "stderr",
     "output_type": "stream",
     "text": [
      "C:\\Users\\ivyde\\Anaconda3\\lib\\site-packages\\ipykernel_launcher.py:1: SettingWithCopyWarning: \n",
      "A value is trying to be set on a copy of a slice from a DataFrame.\n",
      "Try using .loc[row_indexer,col_indexer] = value instead\n",
      "\n",
      "See the caveats in the documentation: http://pandas.pydata.org/pandas-docs/stable/user_guide/indexing.html#returning-a-view-versus-a-copy\n",
      "  \"\"\"Entry point for launching an IPython kernel.\n",
      "C:\\Users\\ivyde\\Anaconda3\\lib\\site-packages\\ipykernel_launcher.py:2: SettingWithCopyWarning: \n",
      "A value is trying to be set on a copy of a slice from a DataFrame.\n",
      "Try using .loc[row_indexer,col_indexer] = value instead\n",
      "\n",
      "See the caveats in the documentation: http://pandas.pydata.org/pandas-docs/stable/user_guide/indexing.html#returning-a-view-versus-a-copy\n",
      "  \n"
     ]
    }
   ],
   "source": [
    "df_2['cleaning_fee']=df_2.cleaning_fee.where(df_2.cleaning_fee<=150, other=np.nan)\n",
    "df_2['cleaning_fee']=df_2.cleaning_fee.fillna(df_2.cleaning_fee.median())"
   ]
  },
  {
   "cell_type": "markdown",
   "metadata": {},
   "source": [
    "**review per month - if is null, treated as no review - replace with 0**"
   ]
  },
  {
   "cell_type": "code",
   "execution_count": 936,
   "metadata": {},
   "outputs": [
    {
     "name": "stderr",
     "output_type": "stream",
     "text": [
      "C:\\Users\\ivyde\\Anaconda3\\lib\\site-packages\\ipykernel_launcher.py:1: SettingWithCopyWarning: \n",
      "A value is trying to be set on a copy of a slice from a DataFrame.\n",
      "Try using .loc[row_indexer,col_indexer] = value instead\n",
      "\n",
      "See the caveats in the documentation: http://pandas.pydata.org/pandas-docs/stable/user_guide/indexing.html#returning-a-view-versus-a-copy\n",
      "  \"\"\"Entry point for launching an IPython kernel.\n"
     ]
    }
   ],
   "source": [
    "df_2['reviews_per_month']=df_2.reviews_per_month.fillna(0)"
   ]
  },
  {
   "cell_type": "code",
   "execution_count": 937,
   "metadata": {},
   "outputs": [
    {
     "data": {
      "text/plain": [
       "scrape_id                       0\n",
       "last_scraped                    0\n",
       "picture_url                     0\n",
       "host_is_superhost               0\n",
       "neighbourhood_cleansed          0\n",
       "neighbourhood_group_cleansed    0\n",
       "latitude                        0\n",
       "longitude                       0\n",
       "property_type                   0\n",
       "room_type                       0\n",
       "accommodates                    0\n",
       "bathrooms                       0\n",
       "bedrooms                        0\n",
       "beds                            0\n",
       "bed_type                        0\n",
       "amenities                       0\n",
       "price                           0\n",
       "security_deposit                0\n",
       "cleaning_fee                    0\n",
       "guests_included                 0\n",
       "availability_30                 0\n",
       "number_of_reviews               0\n",
       "review_scores_rating            0\n",
       "cancellation_policy             0\n",
       "reviews_per_month               0\n",
       "dtype: int64"
      ]
     },
     "execution_count": 937,
     "metadata": {},
     "output_type": "execute_result"
    }
   ],
   "source": [
    "df_2.isnull().sum()"
   ]
  },
  {
   "cell_type": "markdown",
   "metadata": {},
   "source": [
    "# 3. Other variables"
   ]
  },
  {
   "cell_type": "markdown",
   "metadata": {},
   "source": [
    "**3.1 convert scrap id to date**"
   ]
  },
  {
   "cell_type": "code",
   "execution_count": 938,
   "metadata": {},
   "outputs": [],
   "source": [
    "#df_3=df_2.drop(['picture_url'], axis=1)"
   ]
  },
  {
   "cell_type": "code",
   "execution_count": 939,
   "metadata": {},
   "outputs": [],
   "source": [
    "df_3=df_2.copy()"
   ]
  },
  {
   "cell_type": "code",
   "execution_count": 940,
   "metadata": {},
   "outputs": [
    {
     "data": {
      "text/plain": [
       "2.019060e+13    5010\n",
       "2.019080e+13    5004\n",
       "2.019070e+13    4985\n",
       "2.019110e+13    4978\n",
       "2.019100e+13    4956\n",
       "2.019050e+13    4942\n",
       "2.019090e+13    4903\n",
       "2.019040e+13    4877\n",
       "2.019030e+13    4781\n",
       "2.019032e+13       1\n",
       "Name: scrape_id, dtype: int64"
      ]
     },
     "execution_count": 940,
     "metadata": {},
     "output_type": "execute_result"
    }
   ],
   "source": [
    "df_3.scrape_id.value_counts()"
   ]
  },
  {
   "cell_type": "code",
   "execution_count": 941,
   "metadata": {},
   "outputs": [],
   "source": [
    "df_3['month']=round(df_3.scrape_id/100000000).astype(int)"
   ]
  },
  {
   "cell_type": "code",
   "execution_count": 942,
   "metadata": {},
   "outputs": [
    {
     "data": {
      "text/plain": [
       "201906    5010\n",
       "201908    5004\n",
       "201907    4985\n",
       "201911    4978\n",
       "201910    4956\n",
       "201905    4942\n",
       "201909    4903\n",
       "201904    4877\n",
       "201903    4782\n",
       "Name: month, dtype: int64"
      ]
     },
     "execution_count": 942,
     "metadata": {},
     "output_type": "execute_result"
    }
   ],
   "source": [
    "df_3['month'].value_counts()"
   ]
  },
  {
   "cell_type": "code",
   "execution_count": 943,
   "metadata": {},
   "outputs": [],
   "source": [
    "from datetime import datetime, timedelta\n",
    "df_3['month']=pd.to_datetime(df_3['month'],format='%Y%m')"
   ]
  },
  {
   "cell_type": "code",
   "execution_count": 944,
   "metadata": {},
   "outputs": [
    {
     "data": {
      "text/plain": [
       "2019-06-01    5010\n",
       "2019-08-01    5004\n",
       "2019-07-01    4985\n",
       "2019-11-01    4978\n",
       "2019-10-01    4956\n",
       "2019-05-01    4942\n",
       "2019-09-01    4903\n",
       "2019-04-01    4877\n",
       "2019-03-01    4782\n",
       "Name: month, dtype: int64"
      ]
     },
     "execution_count": 944,
     "metadata": {},
     "output_type": "execute_result"
    }
   ],
   "source": [
    "df_3['month'].value_counts()"
   ]
  },
  {
   "cell_type": "code",
   "execution_count": 945,
   "metadata": {},
   "outputs": [],
   "source": [
    "df_3=df_3.drop(['scrape_id'], axis=1)\n",
    "df_3=df_3.drop(['last_scraped'], axis=1)"
   ]
  },
  {
   "cell_type": "code",
   "execution_count": 946,
   "metadata": {},
   "outputs": [
    {
     "data": {
      "text/html": [
       "<div>\n",
       "<style scoped>\n",
       "    .dataframe tbody tr th:only-of-type {\n",
       "        vertical-align: middle;\n",
       "    }\n",
       "\n",
       "    .dataframe tbody tr th {\n",
       "        vertical-align: top;\n",
       "    }\n",
       "\n",
       "    .dataframe thead th {\n",
       "        text-align: right;\n",
       "    }\n",
       "</style>\n",
       "<table border=\"1\" class=\"dataframe\">\n",
       "  <thead>\n",
       "    <tr style=\"text-align: right;\">\n",
       "      <th></th>\n",
       "      <th>picture_url</th>\n",
       "      <th>host_is_superhost</th>\n",
       "      <th>neighbourhood_cleansed</th>\n",
       "      <th>neighbourhood_group_cleansed</th>\n",
       "      <th>latitude</th>\n",
       "      <th>longitude</th>\n",
       "      <th>property_type</th>\n",
       "      <th>room_type</th>\n",
       "      <th>accommodates</th>\n",
       "      <th>bathrooms</th>\n",
       "      <th>...</th>\n",
       "      <th>price</th>\n",
       "      <th>security_deposit</th>\n",
       "      <th>cleaning_fee</th>\n",
       "      <th>guests_included</th>\n",
       "      <th>availability_30</th>\n",
       "      <th>number_of_reviews</th>\n",
       "      <th>review_scores_rating</th>\n",
       "      <th>cancellation_policy</th>\n",
       "      <th>reviews_per_month</th>\n",
       "      <th>month</th>\n",
       "    </tr>\n",
       "    <tr>\n",
       "      <th>id</th>\n",
       "      <th></th>\n",
       "      <th></th>\n",
       "      <th></th>\n",
       "      <th></th>\n",
       "      <th></th>\n",
       "      <th></th>\n",
       "      <th></th>\n",
       "      <th></th>\n",
       "      <th></th>\n",
       "      <th></th>\n",
       "      <th></th>\n",
       "      <th></th>\n",
       "      <th></th>\n",
       "      <th></th>\n",
       "      <th></th>\n",
       "      <th></th>\n",
       "      <th></th>\n",
       "      <th></th>\n",
       "      <th></th>\n",
       "      <th></th>\n",
       "      <th></th>\n",
       "    </tr>\n",
       "  </thead>\n",
       "  <tbody>\n",
       "    <tr>\n",
       "      <td>49091</td>\n",
       "      <td>https://a0.muscache.com/im/pictures/24485541/6...</td>\n",
       "      <td>f</td>\n",
       "      <td>Woodlands</td>\n",
       "      <td>North Region</td>\n",
       "      <td>1.44255</td>\n",
       "      <td>103.79580</td>\n",
       "      <td>Apartment</td>\n",
       "      <td>Private room</td>\n",
       "      <td>1</td>\n",
       "      <td>1.0</td>\n",
       "      <td>...</td>\n",
       "      <td>81</td>\n",
       "      <td>0.0</td>\n",
       "      <td>0.0</td>\n",
       "      <td>1</td>\n",
       "      <td>30</td>\n",
       "      <td>1</td>\n",
       "      <td>94.0</td>\n",
       "      <td>flexible</td>\n",
       "      <td>0.02</td>\n",
       "      <td>2019-03-01</td>\n",
       "    </tr>\n",
       "    <tr>\n",
       "      <td>50646</td>\n",
       "      <td>https://a0.muscache.com/im/pictures/36342984/6...</td>\n",
       "      <td>f</td>\n",
       "      <td>Bukit Timah</td>\n",
       "      <td>Central Region</td>\n",
       "      <td>1.33235</td>\n",
       "      <td>103.78521</td>\n",
       "      <td>Apartment</td>\n",
       "      <td>Private room</td>\n",
       "      <td>2</td>\n",
       "      <td>1.0</td>\n",
       "      <td>...</td>\n",
       "      <td>80</td>\n",
       "      <td>0.0</td>\n",
       "      <td>0.0</td>\n",
       "      <td>2</td>\n",
       "      <td>30</td>\n",
       "      <td>18</td>\n",
       "      <td>91.0</td>\n",
       "      <td>moderate</td>\n",
       "      <td>0.30</td>\n",
       "      <td>2019-03-01</td>\n",
       "    </tr>\n",
       "    <tr>\n",
       "      <td>56334</td>\n",
       "      <td>https://a0.muscache.com/im/pictures/20783922/1...</td>\n",
       "      <td>f</td>\n",
       "      <td>Woodlands</td>\n",
       "      <td>North Region</td>\n",
       "      <td>1.44246</td>\n",
       "      <td>103.79667</td>\n",
       "      <td>Apartment</td>\n",
       "      <td>Private room</td>\n",
       "      <td>1</td>\n",
       "      <td>1.0</td>\n",
       "      <td>...</td>\n",
       "      <td>68</td>\n",
       "      <td>0.0</td>\n",
       "      <td>0.0</td>\n",
       "      <td>1</td>\n",
       "      <td>30</td>\n",
       "      <td>20</td>\n",
       "      <td>98.0</td>\n",
       "      <td>flexible</td>\n",
       "      <td>0.21</td>\n",
       "      <td>2019-03-01</td>\n",
       "    </tr>\n",
       "    <tr>\n",
       "      <td>71609</td>\n",
       "      <td>https://a0.muscache.com/im/pictures/24453191/3...</td>\n",
       "      <td>f</td>\n",
       "      <td>Tampines</td>\n",
       "      <td>East Region</td>\n",
       "      <td>1.34541</td>\n",
       "      <td>103.95712</td>\n",
       "      <td>Villa</td>\n",
       "      <td>Private room</td>\n",
       "      <td>6</td>\n",
       "      <td>1.0</td>\n",
       "      <td>...</td>\n",
       "      <td>200</td>\n",
       "      <td>271.0</td>\n",
       "      <td>54.0</td>\n",
       "      <td>4</td>\n",
       "      <td>27</td>\n",
       "      <td>12</td>\n",
       "      <td>80.0</td>\n",
       "      <td>moderate</td>\n",
       "      <td>0.14</td>\n",
       "      <td>2019-03-01</td>\n",
       "    </tr>\n",
       "    <tr>\n",
       "      <td>71896</td>\n",
       "      <td>https://a0.muscache.com/im/pictures/2440674/ac...</td>\n",
       "      <td>f</td>\n",
       "      <td>Tampines</td>\n",
       "      <td>East Region</td>\n",
       "      <td>1.34567</td>\n",
       "      <td>103.95963</td>\n",
       "      <td>House</td>\n",
       "      <td>Private room</td>\n",
       "      <td>3</td>\n",
       "      <td>0.5</td>\n",
       "      <td>...</td>\n",
       "      <td>92</td>\n",
       "      <td>135.0</td>\n",
       "      <td>27.0</td>\n",
       "      <td>1</td>\n",
       "      <td>27</td>\n",
       "      <td>20</td>\n",
       "      <td>80.0</td>\n",
       "      <td>moderate</td>\n",
       "      <td>0.22</td>\n",
       "      <td>2019-03-01</td>\n",
       "    </tr>\n",
       "  </tbody>\n",
       "</table>\n",
       "<p>5 rows × 24 columns</p>\n",
       "</div>"
      ],
      "text/plain": [
       "                                             picture_url host_is_superhost  \\\n",
       "id                                                                           \n",
       "49091  https://a0.muscache.com/im/pictures/24485541/6...                 f   \n",
       "50646  https://a0.muscache.com/im/pictures/36342984/6...                 f   \n",
       "56334  https://a0.muscache.com/im/pictures/20783922/1...                 f   \n",
       "71609  https://a0.muscache.com/im/pictures/24453191/3...                 f   \n",
       "71896  https://a0.muscache.com/im/pictures/2440674/ac...                 f   \n",
       "\n",
       "      neighbourhood_cleansed neighbourhood_group_cleansed  latitude  \\\n",
       "id                                                                    \n",
       "49091              Woodlands                 North Region   1.44255   \n",
       "50646            Bukit Timah               Central Region   1.33235   \n",
       "56334              Woodlands                 North Region   1.44246   \n",
       "71609               Tampines                  East Region   1.34541   \n",
       "71896               Tampines                  East Region   1.34567   \n",
       "\n",
       "       longitude property_type     room_type  accommodates  bathrooms  ...  \\\n",
       "id                                                                     ...   \n",
       "49091  103.79580     Apartment  Private room             1        1.0  ...   \n",
       "50646  103.78521     Apartment  Private room             2        1.0  ...   \n",
       "56334  103.79667     Apartment  Private room             1        1.0  ...   \n",
       "71609  103.95712         Villa  Private room             6        1.0  ...   \n",
       "71896  103.95963         House  Private room             3        0.5  ...   \n",
       "\n",
       "       price  security_deposit cleaning_fee guests_included  availability_30  \\\n",
       "id                                                                             \n",
       "49091     81               0.0          0.0               1               30   \n",
       "50646     80               0.0          0.0               2               30   \n",
       "56334     68               0.0          0.0               1               30   \n",
       "71609    200             271.0         54.0               4               27   \n",
       "71896     92             135.0         27.0               1               27   \n",
       "\n",
       "       number_of_reviews  review_scores_rating  cancellation_policy  \\\n",
       "id                                                                    \n",
       "49091                  1                  94.0             flexible   \n",
       "50646                 18                  91.0             moderate   \n",
       "56334                 20                  98.0             flexible   \n",
       "71609                 12                  80.0             moderate   \n",
       "71896                 20                  80.0             moderate   \n",
       "\n",
       "       reviews_per_month      month  \n",
       "id                                   \n",
       "49091               0.02 2019-03-01  \n",
       "50646               0.30 2019-03-01  \n",
       "56334               0.21 2019-03-01  \n",
       "71609               0.14 2019-03-01  \n",
       "71896               0.22 2019-03-01  \n",
       "\n",
       "[5 rows x 24 columns]"
      ]
     },
     "execution_count": 946,
     "metadata": {},
     "output_type": "execute_result"
    }
   ],
   "source": [
    "df_3.head()"
   ]
  },
  {
   "cell_type": "markdown",
   "metadata": {},
   "source": [
    "**property_type - Keep Apartment, House, Hostel, Condominium, Serviced apartment, all others  labels as Others**"
   ]
  },
  {
   "cell_type": "code",
   "execution_count": 947,
   "metadata": {},
   "outputs": [
    {
     "data": {
      "text/plain": [
       "Apartment             20743\n",
       "Condominium            9525\n",
       "Serviced apartment     4565\n",
       "House                  2799\n",
       "Hostel                 2072\n",
       "Townhouse               955\n",
       "Loft                    847\n",
       "Boutique hotel          590\n",
       "Hotel                   580\n",
       "Bed and breakfast       505\n",
       "Bungalow                355\n",
       "Other                   271\n",
       "Guest suite             156\n",
       "Guesthouse              122\n",
       "Tent                    101\n",
       "Villa                    95\n",
       "Aparthotel               70\n",
       "Boat                     36\n",
       "Campsite                 27\n",
       "Cabin                     9\n",
       "Cottage                   7\n",
       "Bus                       5\n",
       "Camper/RV                 1\n",
       "Tiny house                1\n",
       "Name: property_type, dtype: int64"
      ]
     },
     "execution_count": 947,
     "metadata": {},
     "output_type": "execute_result"
    }
   ],
   "source": [
    "df_3['property_type'].value_counts()"
   ]
  },
  {
   "cell_type": "code",
   "execution_count": 948,
   "metadata": {},
   "outputs": [],
   "source": [
    "df_3['property_type']=df_2.property_type.where(((df_2.property_type=='Apartment')|(df_2.property_type=='Condominium')\n",
    "                                              |(df_2.property_type=='Serviced apartment')\n",
    "                                               |(df_2.property_type=='House')\n",
    "                                               |(df_2.property_type=='Hostel')), other='others')"
   ]
  },
  {
   "cell_type": "code",
   "execution_count": 949,
   "metadata": {},
   "outputs": [
    {
     "data": {
      "text/plain": [
       "Apartment             20743\n",
       "Condominium            9525\n",
       "others                 4733\n",
       "Serviced apartment     4565\n",
       "House                  2799\n",
       "Hostel                 2072\n",
       "Name: property_type, dtype: int64"
      ]
     },
     "execution_count": 949,
     "metadata": {},
     "output_type": "execute_result"
    }
   ],
   "source": [
    "df_3['property_type'].value_counts()"
   ]
  },
  {
   "cell_type": "markdown",
   "metadata": {},
   "source": [
    "# Convert 'amenities' column from string to list (to obtain length and ave amenity length)"
   ]
  },
  {
   "cell_type": "code",
   "execution_count": 950,
   "metadata": {},
   "outputs": [],
   "source": [
    "remove_results = ['translation missing enhostingamenity49','translation missing enhostingamenity50']\n",
    "df_3['amenities'] = df_3['amenities'].apply(lambda x: list(set(x.split(','))- set(['\"translation missing: en.hosting_amenity_49\"','\"translation missing: en.hosting_amenity_50\"'])))"
   ]
  },
  {
   "cell_type": "code",
   "execution_count": 951,
   "metadata": {},
   "outputs": [],
   "source": [
    "import string\n",
    "table = str.maketrans('', '', string.punctuation)"
   ]
  },
  {
   "cell_type": "code",
   "execution_count": 952,
   "metadata": {
    "scrolled": true
   },
   "outputs": [],
   "source": [
    "df_3['amenities'] = df_3['amenities'].apply(lambda x: [row.translate(table) for row in x])"
   ]
  },
  {
   "cell_type": "code",
   "execution_count": 953,
   "metadata": {},
   "outputs": [],
   "source": [
    "df_3['num_amenities'] = df_3['amenities'].apply(len)"
   ]
  },
  {
   "cell_type": "code",
   "execution_count": 954,
   "metadata": {},
   "outputs": [
    {
     "data": {
      "text/html": [
       "<div>\n",
       "<style scoped>\n",
       "    .dataframe tbody tr th:only-of-type {\n",
       "        vertical-align: middle;\n",
       "    }\n",
       "\n",
       "    .dataframe tbody tr th {\n",
       "        vertical-align: top;\n",
       "    }\n",
       "\n",
       "    .dataframe thead th {\n",
       "        text-align: right;\n",
       "    }\n",
       "</style>\n",
       "<table border=\"1\" class=\"dataframe\">\n",
       "  <thead>\n",
       "    <tr style=\"text-align: right;\">\n",
       "      <th></th>\n",
       "      <th>count</th>\n",
       "      <th>mean</th>\n",
       "      <th>std</th>\n",
       "      <th>min</th>\n",
       "      <th>25%</th>\n",
       "      <th>50%</th>\n",
       "      <th>75%</th>\n",
       "      <th>max</th>\n",
       "    </tr>\n",
       "    <tr>\n",
       "      <th>property_type</th>\n",
       "      <th></th>\n",
       "      <th></th>\n",
       "      <th></th>\n",
       "      <th></th>\n",
       "      <th></th>\n",
       "      <th></th>\n",
       "      <th></th>\n",
       "      <th></th>\n",
       "    </tr>\n",
       "  </thead>\n",
       "  <tbody>\n",
       "    <tr>\n",
       "      <td>Apartment</td>\n",
       "      <td>20743.0</td>\n",
       "      <td>22.551415</td>\n",
       "      <td>9.778087</td>\n",
       "      <td>1.0</td>\n",
       "      <td>15.0</td>\n",
       "      <td>21.0</td>\n",
       "      <td>28.0</td>\n",
       "      <td>73.0</td>\n",
       "    </tr>\n",
       "    <tr>\n",
       "      <td>Condominium</td>\n",
       "      <td>9525.0</td>\n",
       "      <td>26.219003</td>\n",
       "      <td>10.221842</td>\n",
       "      <td>2.0</td>\n",
       "      <td>18.0</td>\n",
       "      <td>25.0</td>\n",
       "      <td>32.0</td>\n",
       "      <td>70.0</td>\n",
       "    </tr>\n",
       "    <tr>\n",
       "      <td>Hostel</td>\n",
       "      <td>2072.0</td>\n",
       "      <td>16.498069</td>\n",
       "      <td>6.490196</td>\n",
       "      <td>1.0</td>\n",
       "      <td>11.0</td>\n",
       "      <td>17.0</td>\n",
       "      <td>21.0</td>\n",
       "      <td>40.0</td>\n",
       "    </tr>\n",
       "    <tr>\n",
       "      <td>House</td>\n",
       "      <td>2799.0</td>\n",
       "      <td>18.477671</td>\n",
       "      <td>9.193775</td>\n",
       "      <td>1.0</td>\n",
       "      <td>12.0</td>\n",
       "      <td>17.0</td>\n",
       "      <td>23.0</td>\n",
       "      <td>70.0</td>\n",
       "    </tr>\n",
       "    <tr>\n",
       "      <td>Serviced apartment</td>\n",
       "      <td>4565.0</td>\n",
       "      <td>27.303834</td>\n",
       "      <td>9.090662</td>\n",
       "      <td>6.0</td>\n",
       "      <td>21.0</td>\n",
       "      <td>25.0</td>\n",
       "      <td>32.0</td>\n",
       "      <td>59.0</td>\n",
       "    </tr>\n",
       "    <tr>\n",
       "      <td>others</td>\n",
       "      <td>4733.0</td>\n",
       "      <td>20.111768</td>\n",
       "      <td>9.015154</td>\n",
       "      <td>1.0</td>\n",
       "      <td>14.0</td>\n",
       "      <td>18.0</td>\n",
       "      <td>25.0</td>\n",
       "      <td>64.0</td>\n",
       "    </tr>\n",
       "  </tbody>\n",
       "</table>\n",
       "</div>"
      ],
      "text/plain": [
       "                      count       mean        std  min   25%   50%   75%   max\n",
       "property_type                                                                 \n",
       "Apartment           20743.0  22.551415   9.778087  1.0  15.0  21.0  28.0  73.0\n",
       "Condominium          9525.0  26.219003  10.221842  2.0  18.0  25.0  32.0  70.0\n",
       "Hostel               2072.0  16.498069   6.490196  1.0  11.0  17.0  21.0  40.0\n",
       "House                2799.0  18.477671   9.193775  1.0  12.0  17.0  23.0  70.0\n",
       "Serviced apartment   4565.0  27.303834   9.090662  6.0  21.0  25.0  32.0  59.0\n",
       "others               4733.0  20.111768   9.015154  1.0  14.0  18.0  25.0  64.0"
      ]
     },
     "execution_count": 954,
     "metadata": {},
     "output_type": "execute_result"
    }
   ],
   "source": [
    "df_3.groupby('property_type')['num_amenities'].mean()\n",
    "df_3.groupby('property_type')['num_amenities'].describe() #.unstack()"
   ]
  },
  {
   "cell_type": "code",
   "execution_count": 955,
   "metadata": {},
   "outputs": [
    {
     "data": {
      "image/png": "[encoded data removed]",
      "text/plain": [
       "<Figure size 1080x576 with 1 Axes>"
      ]
     },
     "metadata": {},
     "output_type": "display_data"
    }
   ],
   "source": [
    "plt.figure(figsize=(15,8))\n",
    "ax = sns.boxplot(x='property_type',y='num_amenities',data=df_3)\n",
    "plt.xticks(rotation=45)\n",
    "plt.tight_layout()"
   ]
  },
  {
   "cell_type": "code",
   "execution_count": 956,
   "metadata": {},
   "outputs": [
    {
     "data": {
      "text/plain": [
       "<seaborn.axisgrid.FacetGrid at 0x19e91dac0c8>"
      ]
     },
     "execution_count": 956,
     "metadata": {},
     "output_type": "execute_result"
    },
    {
     "data": {
      "image/png": "[encoded data removed]",
      "text/plain": [
       "<Figure size 360x360 with 1 Axes>"
      ]
     },
     "metadata": {},
     "output_type": "display_data"
    }
   ],
   "source": [
    "sns.lmplot(x='num_amenities',y='price',data=df_3)"
   ]
  },
  {
   "cell_type": "code",
   "execution_count": 957,
   "metadata": {},
   "outputs": [],
   "source": [
    "# define a function that calculates the mean string length from a list of strings\n",
    "def mean_string_length(list_of_strings):\n",
    "    return np.mean([len(string) for string in list_of_strings])"
   ]
  },
  {
   "cell_type": "code",
   "execution_count": 958,
   "metadata": {},
   "outputs": [
    {
     "data": {
      "text/html": [
       "<div>\n",
       "<style scoped>\n",
       "    .dataframe tbody tr th:only-of-type {\n",
       "        vertical-align: middle;\n",
       "    }\n",
       "\n",
       "    .dataframe tbody tr th {\n",
       "        vertical-align: top;\n",
       "    }\n",
       "\n",
       "    .dataframe thead th {\n",
       "        text-align: right;\n",
       "    }\n",
       "</style>\n",
       "<table border=\"1\" class=\"dataframe\">\n",
       "  <thead>\n",
       "    <tr style=\"text-align: right;\">\n",
       "      <th></th>\n",
       "      <th>picture_url</th>\n",
       "      <th>host_is_superhost</th>\n",
       "      <th>neighbourhood_cleansed</th>\n",
       "      <th>neighbourhood_group_cleansed</th>\n",
       "      <th>latitude</th>\n",
       "      <th>longitude</th>\n",
       "      <th>property_type</th>\n",
       "      <th>room_type</th>\n",
       "      <th>accommodates</th>\n",
       "      <th>bathrooms</th>\n",
       "      <th>...</th>\n",
       "      <th>cleaning_fee</th>\n",
       "      <th>guests_included</th>\n",
       "      <th>availability_30</th>\n",
       "      <th>number_of_reviews</th>\n",
       "      <th>review_scores_rating</th>\n",
       "      <th>cancellation_policy</th>\n",
       "      <th>reviews_per_month</th>\n",
       "      <th>month</th>\n",
       "      <th>num_amenities</th>\n",
       "      <th>amenity_length</th>\n",
       "    </tr>\n",
       "    <tr>\n",
       "      <th>id</th>\n",
       "      <th></th>\n",
       "      <th></th>\n",
       "      <th></th>\n",
       "      <th></th>\n",
       "      <th></th>\n",
       "      <th></th>\n",
       "      <th></th>\n",
       "      <th></th>\n",
       "      <th></th>\n",
       "      <th></th>\n",
       "      <th></th>\n",
       "      <th></th>\n",
       "      <th></th>\n",
       "      <th></th>\n",
       "      <th></th>\n",
       "      <th></th>\n",
       "      <th></th>\n",
       "      <th></th>\n",
       "      <th></th>\n",
       "      <th></th>\n",
       "      <th></th>\n",
       "    </tr>\n",
       "  </thead>\n",
       "  <tbody>\n",
       "    <tr>\n",
       "      <td>49091</td>\n",
       "      <td>https://a0.muscache.com/im/pictures/24485541/6...</td>\n",
       "      <td>f</td>\n",
       "      <td>Woodlands</td>\n",
       "      <td>North Region</td>\n",
       "      <td>1.44255</td>\n",
       "      <td>103.79580</td>\n",
       "      <td>Apartment</td>\n",
       "      <td>Private room</td>\n",
       "      <td>1</td>\n",
       "      <td>1.0</td>\n",
       "      <td>...</td>\n",
       "      <td>0.0</td>\n",
       "      <td>1</td>\n",
       "      <td>30</td>\n",
       "      <td>1</td>\n",
       "      <td>94.0</td>\n",
       "      <td>flexible</td>\n",
       "      <td>0.02</td>\n",
       "      <td>2019-03-01</td>\n",
       "      <td>9</td>\n",
       "      <td>9.111111</td>\n",
       "    </tr>\n",
       "    <tr>\n",
       "      <td>50646</td>\n",
       "      <td>https://a0.muscache.com/im/pictures/36342984/6...</td>\n",
       "      <td>f</td>\n",
       "      <td>Bukit Timah</td>\n",
       "      <td>Central Region</td>\n",
       "      <td>1.33235</td>\n",
       "      <td>103.78521</td>\n",
       "      <td>Apartment</td>\n",
       "      <td>Private room</td>\n",
       "      <td>2</td>\n",
       "      <td>1.0</td>\n",
       "      <td>...</td>\n",
       "      <td>0.0</td>\n",
       "      <td>2</td>\n",
       "      <td>30</td>\n",
       "      <td>18</td>\n",
       "      <td>91.0</td>\n",
       "      <td>moderate</td>\n",
       "      <td>0.30</td>\n",
       "      <td>2019-03-01</td>\n",
       "      <td>13</td>\n",
       "      <td>7.769231</td>\n",
       "    </tr>\n",
       "    <tr>\n",
       "      <td>56334</td>\n",
       "      <td>https://a0.muscache.com/im/pictures/20783922/1...</td>\n",
       "      <td>f</td>\n",
       "      <td>Woodlands</td>\n",
       "      <td>North Region</td>\n",
       "      <td>1.44246</td>\n",
       "      <td>103.79667</td>\n",
       "      <td>Apartment</td>\n",
       "      <td>Private room</td>\n",
       "      <td>1</td>\n",
       "      <td>1.0</td>\n",
       "      <td>...</td>\n",
       "      <td>0.0</td>\n",
       "      <td>1</td>\n",
       "      <td>30</td>\n",
       "      <td>20</td>\n",
       "      <td>98.0</td>\n",
       "      <td>flexible</td>\n",
       "      <td>0.21</td>\n",
       "      <td>2019-03-01</td>\n",
       "      <td>10</td>\n",
       "      <td>8.600000</td>\n",
       "    </tr>\n",
       "    <tr>\n",
       "      <td>71609</td>\n",
       "      <td>https://a0.muscache.com/im/pictures/24453191/3...</td>\n",
       "      <td>f</td>\n",
       "      <td>Tampines</td>\n",
       "      <td>East Region</td>\n",
       "      <td>1.34541</td>\n",
       "      <td>103.95712</td>\n",
       "      <td>others</td>\n",
       "      <td>Private room</td>\n",
       "      <td>6</td>\n",
       "      <td>1.0</td>\n",
       "      <td>...</td>\n",
       "      <td>54.0</td>\n",
       "      <td>4</td>\n",
       "      <td>27</td>\n",
       "      <td>12</td>\n",
       "      <td>80.0</td>\n",
       "      <td>moderate</td>\n",
       "      <td>0.14</td>\n",
       "      <td>2019-03-01</td>\n",
       "      <td>26</td>\n",
       "      <td>13.000000</td>\n",
       "    </tr>\n",
       "    <tr>\n",
       "      <td>71896</td>\n",
       "      <td>https://a0.muscache.com/im/pictures/2440674/ac...</td>\n",
       "      <td>f</td>\n",
       "      <td>Tampines</td>\n",
       "      <td>East Region</td>\n",
       "      <td>1.34567</td>\n",
       "      <td>103.95963</td>\n",
       "      <td>House</td>\n",
       "      <td>Private room</td>\n",
       "      <td>3</td>\n",
       "      <td>0.5</td>\n",
       "      <td>...</td>\n",
       "      <td>27.0</td>\n",
       "      <td>1</td>\n",
       "      <td>27</td>\n",
       "      <td>20</td>\n",
       "      <td>80.0</td>\n",
       "      <td>moderate</td>\n",
       "      <td>0.22</td>\n",
       "      <td>2019-03-01</td>\n",
       "      <td>22</td>\n",
       "      <td>11.090909</td>\n",
       "    </tr>\n",
       "  </tbody>\n",
       "</table>\n",
       "<p>5 rows × 26 columns</p>\n",
       "</div>"
      ],
      "text/plain": [
       "                                             picture_url host_is_superhost  \\\n",
       "id                                                                           \n",
       "49091  https://a0.muscache.com/im/pictures/24485541/6...                 f   \n",
       "50646  https://a0.muscache.com/im/pictures/36342984/6...                 f   \n",
       "56334  https://a0.muscache.com/im/pictures/20783922/1...                 f   \n",
       "71609  https://a0.muscache.com/im/pictures/24453191/3...                 f   \n",
       "71896  https://a0.muscache.com/im/pictures/2440674/ac...                 f   \n",
       "\n",
       "      neighbourhood_cleansed neighbourhood_group_cleansed  latitude  \\\n",
       "id                                                                    \n",
       "49091              Woodlands                 North Region   1.44255   \n",
       "50646            Bukit Timah               Central Region   1.33235   \n",
       "56334              Woodlands                 North Region   1.44246   \n",
       "71609               Tampines                  East Region   1.34541   \n",
       "71896               Tampines                  East Region   1.34567   \n",
       "\n",
       "       longitude property_type     room_type  accommodates  bathrooms  ...  \\\n",
       "id                                                                     ...   \n",
       "49091  103.79580     Apartment  Private room             1        1.0  ...   \n",
       "50646  103.78521     Apartment  Private room             2        1.0  ...   \n",
       "56334  103.79667     Apartment  Private room             1        1.0  ...   \n",
       "71609  103.95712        others  Private room             6        1.0  ...   \n",
       "71896  103.95963         House  Private room             3        0.5  ...   \n",
       "\n",
       "       cleaning_fee  guests_included availability_30 number_of_reviews  \\\n",
       "id                                                                       \n",
       "49091           0.0                1              30                 1   \n",
       "50646           0.0                2              30                18   \n",
       "56334           0.0                1              30                20   \n",
       "71609          54.0                4              27                12   \n",
       "71896          27.0                1              27                20   \n",
       "\n",
       "       review_scores_rating  cancellation_policy  reviews_per_month  \\\n",
       "id                                                                    \n",
       "49091                  94.0             flexible               0.02   \n",
       "50646                  91.0             moderate               0.30   \n",
       "56334                  98.0             flexible               0.21   \n",
       "71609                  80.0             moderate               0.14   \n",
       "71896                  80.0             moderate               0.22   \n",
       "\n",
       "           month  num_amenities  amenity_length  \n",
       "id                                               \n",
       "49091 2019-03-01              9        9.111111  \n",
       "50646 2019-03-01             13        7.769231  \n",
       "56334 2019-03-01             10        8.600000  \n",
       "71609 2019-03-01             26       13.000000  \n",
       "71896 2019-03-01             22       11.090909  \n",
       "\n",
       "[5 rows x 26 columns]"
      ]
     },
     "execution_count": 958,
     "metadata": {},
     "output_type": "execute_result"
    }
   ],
   "source": [
    "df_3['amenity_length'] = df_3['amenities'].apply(mean_string_length)\n",
    "df_3['amenity_length'] = df_3['amenities'].apply(lambda x: np.mean([len(item) for item in x]))\n",
    "df_3.head()"
   ]
  },
  {
   "cell_type": "code",
   "execution_count": 959,
   "metadata": {},
   "outputs": [
    {
     "data": {
      "text/html": [
       "<div>\n",
       "<style scoped>\n",
       "    .dataframe tbody tr th:only-of-type {\n",
       "        vertical-align: middle;\n",
       "    }\n",
       "\n",
       "    .dataframe tbody tr th {\n",
       "        vertical-align: top;\n",
       "    }\n",
       "\n",
       "    .dataframe thead th {\n",
       "        text-align: right;\n",
       "    }\n",
       "</style>\n",
       "<table border=\"1\" class=\"dataframe\">\n",
       "  <thead>\n",
       "    <tr style=\"text-align: right;\">\n",
       "      <th></th>\n",
       "      <th>count</th>\n",
       "      <th>mean</th>\n",
       "      <th>std</th>\n",
       "      <th>min</th>\n",
       "      <th>25%</th>\n",
       "      <th>50%</th>\n",
       "      <th>75%</th>\n",
       "      <th>max</th>\n",
       "    </tr>\n",
       "    <tr>\n",
       "      <th>property_type</th>\n",
       "      <th></th>\n",
       "      <th></th>\n",
       "      <th></th>\n",
       "      <th></th>\n",
       "      <th></th>\n",
       "      <th></th>\n",
       "      <th></th>\n",
       "      <th></th>\n",
       "    </tr>\n",
       "  </thead>\n",
       "  <tbody>\n",
       "    <tr>\n",
       "      <td>Apartment</td>\n",
       "      <td>20743.0</td>\n",
       "      <td>11.279487</td>\n",
       "      <td>2.084414</td>\n",
       "      <td>0.000000</td>\n",
       "      <td>9.956522</td>\n",
       "      <td>11.461538</td>\n",
       "      <td>12.538462</td>\n",
       "      <td>38.000000</td>\n",
       "    </tr>\n",
       "    <tr>\n",
       "      <td>Condominium</td>\n",
       "      <td>9525.0</td>\n",
       "      <td>11.168090</td>\n",
       "      <td>1.701309</td>\n",
       "      <td>3.000000</td>\n",
       "      <td>10.080000</td>\n",
       "      <td>11.100000</td>\n",
       "      <td>12.200000</td>\n",
       "      <td>17.051282</td>\n",
       "    </tr>\n",
       "    <tr>\n",
       "      <td>Hostel</td>\n",
       "      <td>2072.0</td>\n",
       "      <td>11.363978</td>\n",
       "      <td>1.874632</td>\n",
       "      <td>0.000000</td>\n",
       "      <td>10.687500</td>\n",
       "      <td>11.307692</td>\n",
       "      <td>12.245789</td>\n",
       "      <td>19.000000</td>\n",
       "    </tr>\n",
       "    <tr>\n",
       "      <td>House</td>\n",
       "      <td>2799.0</td>\n",
       "      <td>11.691082</td>\n",
       "      <td>2.462858</td>\n",
       "      <td>0.000000</td>\n",
       "      <td>10.500000</td>\n",
       "      <td>11.517241</td>\n",
       "      <td>12.675439</td>\n",
       "      <td>38.000000</td>\n",
       "    </tr>\n",
       "    <tr>\n",
       "      <td>Serviced apartment</td>\n",
       "      <td>4565.0</td>\n",
       "      <td>11.441002</td>\n",
       "      <td>1.223841</td>\n",
       "      <td>6.777778</td>\n",
       "      <td>10.590909</td>\n",
       "      <td>11.458333</td>\n",
       "      <td>12.166667</td>\n",
       "      <td>16.000000</td>\n",
       "    </tr>\n",
       "    <tr>\n",
       "      <td>others</td>\n",
       "      <td>4733.0</td>\n",
       "      <td>12.077541</td>\n",
       "      <td>2.533733</td>\n",
       "      <td>6.250000</td>\n",
       "      <td>10.750000</td>\n",
       "      <td>11.882353</td>\n",
       "      <td>13.000000</td>\n",
       "      <td>38.000000</td>\n",
       "    </tr>\n",
       "  </tbody>\n",
       "</table>\n",
       "</div>"
      ],
      "text/plain": [
       "                      count       mean       std       min        25%  \\\n",
       "property_type                                                           \n",
       "Apartment           20743.0  11.279487  2.084414  0.000000   9.956522   \n",
       "Condominium          9525.0  11.168090  1.701309  3.000000  10.080000   \n",
       "Hostel               2072.0  11.363978  1.874632  0.000000  10.687500   \n",
       "House                2799.0  11.691082  2.462858  0.000000  10.500000   \n",
       "Serviced apartment   4565.0  11.441002  1.223841  6.777778  10.590909   \n",
       "others               4733.0  12.077541  2.533733  6.250000  10.750000   \n",
       "\n",
       "                          50%        75%        max  \n",
       "property_type                                        \n",
       "Apartment           11.461538  12.538462  38.000000  \n",
       "Condominium         11.100000  12.200000  17.051282  \n",
       "Hostel              11.307692  12.245789  19.000000  \n",
       "House               11.517241  12.675439  38.000000  \n",
       "Serviced apartment  11.458333  12.166667  16.000000  \n",
       "others              11.882353  13.000000  38.000000  "
      ]
     },
     "execution_count": 959,
     "metadata": {},
     "output_type": "execute_result"
    }
   ],
   "source": [
    "df_3.groupby('property_type')['amenity_length'].describe() #.unstack()"
   ]
  },
  {
   "cell_type": "code",
   "execution_count": 960,
   "metadata": {},
   "outputs": [
    {
     "data": {
      "text/plain": [
       "<seaborn.axisgrid.FacetGrid at 0x19ea2741cc8>"
      ]
     },
     "execution_count": 960,
     "metadata": {},
     "output_type": "execute_result"
    },
    {
     "data": {
      "image/png": "[encoded data removed]",
      "text/plain": [
       "<Figure size 360x360 with 1 Axes>"
      ]
     },
     "metadata": {},
     "output_type": "display_data"
    }
   ],
   "source": [
    "sns.lmplot(x='amenity_length',y='price',data=df_3)"
   ]
  },
  {
   "cell_type": "markdown",
   "metadata": {},
   "source": [
    "# Drop irrelevant columns"
   ]
  },
  {
   "cell_type": "code",
   "execution_count": 961,
   "metadata": {},
   "outputs": [
    {
     "data": {
      "text/plain": [
       "Index(['picture_url', 'host_is_superhost', 'neighbourhood_cleansed',\n",
       "       'neighbourhood_group_cleansed', 'latitude', 'longitude',\n",
       "       'property_type', 'room_type', 'accommodates', 'bathrooms', 'bedrooms',\n",
       "       'beds', 'bed_type', 'amenities', 'price', 'security_deposit',\n",
       "       'cleaning_fee', 'guests_included', 'availability_30',\n",
       "       'number_of_reviews', 'review_scores_rating', 'cancellation_policy',\n",
       "       'reviews_per_month', 'month', 'num_amenities', 'amenity_length'],\n",
       "      dtype='object')"
      ]
     },
     "execution_count": 961,
     "metadata": {},
     "output_type": "execute_result"
    }
   ],
   "source": [
    "df_3.columns"
   ]
  },
  {
   "cell_type": "code",
   "execution_count": 962,
   "metadata": {},
   "outputs": [],
   "source": [
    "df_3 = df_3.drop(['neighbourhood_cleansed','latitude', 'longitude','amenities','number_of_reviews'], axis=1)"
   ]
  },
  {
   "cell_type": "markdown",
   "metadata": {},
   "source": [
    "# Mark outlier for target - price"
   ]
  },
  {
   "cell_type": "code",
   "execution_count": 11,
   "metadata": {},
   "outputs": [
    {
     "data": {
      "image/png": "[encoded data removed]",
      "text/plain": [
       "<Figure size 432x288 with 1 Axes>"
      ]
     },
     "metadata": {
      "needs_background": "light"
     },
     "output_type": "display_data"
    }
   ],
   "source": [
    "import matplotlib.pyplot as plt\n",
    "plt.title('Price Distribution')\n",
    "plt.hist(df[\"price\"],bins=1000)\n",
    "plt.xlim(0,1000)\n",
    "plt.show()"
   ]
  },
  {
   "cell_type": "code",
   "execution_count": 964,
   "metadata": {},
   "outputs": [
    {
     "data": {
      "text/plain": [
       "count    44437.000000\n",
       "mean       149.414632\n",
       "std        258.836092\n",
       "min          0.000000\n",
       "50%        110.000000\n",
       "99%        600.000000\n",
       "max      10001.000000\n",
       "Name: price, dtype: float64"
      ]
     },
     "execution_count": 964,
     "metadata": {},
     "output_type": "execute_result"
    }
   ],
   "source": [
    "df_3[\"price\"].describe([0.99])"
   ]
  },
  {
   "cell_type": "code",
   "execution_count": 561,
   "metadata": {},
   "outputs": [],
   "source": [
    "#Tag Outliers\n",
    "#df_3.loc[df_3['price']>600,'price_outlier']=1\n",
    "#df_3.loc[df_3['price']<=600,'price_outlier']=0"
   ]
  },
  {
   "cell_type": "code",
   "execution_count": 562,
   "metadata": {},
   "outputs": [],
   "source": [
    "#df_3['price_outlier'].value_counts()"
   ]
  },
  {
   "cell_type": "code",
   "execution_count": 563,
   "metadata": {},
   "outputs": [],
   "source": [
    "##For non-log transform\n",
    "#y=df_3[\"price\"]"
   ]
  },
  {
   "cell_type": "code",
   "execution_count": 965,
   "metadata": {},
   "outputs": [],
   "source": [
    "df_3 = df_3[df_3['price']>0]"
   ]
  },
  {
   "cell_type": "code",
   "execution_count": 966,
   "metadata": {},
   "outputs": [],
   "source": [
    "#To exclude outliers\n",
    "df_3 = df_3[df_3['price']<=600]"
   ]
  },
  {
   "cell_type": "markdown",
   "metadata": {},
   "source": [
    "***Do THIS to log price***"
   ]
  },
  {
   "cell_type": "code",
   "execution_count": 967,
   "metadata": {},
   "outputs": [
    {
     "name": "stdout",
     "output_type": "stream",
     "text": [
      "Skew is: -0.06539533185516998\n"
     ]
    },
    {
     "data": {
      "image/png": "[encoded data removed]",
      "text/plain": [
       "<Figure size 432x288 with 1 Axes>"
      ]
     },
     "metadata": {},
     "output_type": "display_data"
    }
   ],
   "source": [
    "df_3['price'] = np.log(df_3['price'])\n",
    "print (\"Skew is:\", df_3['price'].skew())\n",
    "sns.distplot(df_3['price'])\n",
    "plt.show()"
   ]
  },
  {
   "cell_type": "markdown",
   "metadata": {},
   "source": [
    "# Combine with number of visitor"
   ]
  },
  {
   "cell_type": "code",
   "execution_count": 1122,
   "metadata": {},
   "outputs": [],
   "source": [
    "visitor=pd.read_excel('Singapore Tourist Visit.xlsx', sheet_name = '2.0', usecols = 'A:D', skiprows = 4, skipfooter = 5)"
   ]
  },
  {
   "cell_type": "code",
   "execution_count": 1126,
   "metadata": {},
   "outputs": [
    {
     "data": {
      "text/plain": [
       "(7400, 4)"
      ]
     },
     "execution_count": 1126,
     "metadata": {},
     "output_type": "execute_result"
    }
   ],
   "source": [
    "visitor.shape"
   ]
  },
  {
   "cell_type": "code",
   "execution_count": 1124,
   "metadata": {
    "scrolled": true
   },
   "outputs": [
    {
     "name": "stdout",
     "output_type": "stream",
     "text": [
      "<class 'pandas.core.frame.DataFrame'>\n",
      "RangeIndex: 7400 entries, 0 to 7399\n",
      "Data columns (total 4 columns):\n",
      "Month                 7400 non-null object\n",
      "Region                7400 non-null object\n",
      "Place of Residence    7400 non-null object\n",
      "Number of Arrivals    7400 non-null int64\n",
      "dtypes: int64(1), object(3)\n",
      "memory usage: 231.4+ KB\n"
     ]
    }
   ],
   "source": [
    "visitor.info()"
   ]
  },
  {
   "cell_type": "code",
   "execution_count": 1123,
   "metadata": {
    "scrolled": true
   },
   "outputs": [
    {
     "data": {
      "text/html": [
       "<div>\n",
       "<style scoped>\n",
       "    .dataframe tbody tr th:only-of-type {\n",
       "        vertical-align: middle;\n",
       "    }\n",
       "\n",
       "    .dataframe tbody tr th {\n",
       "        vertical-align: top;\n",
       "    }\n",
       "\n",
       "    .dataframe thead th {\n",
       "        text-align: right;\n",
       "    }\n",
       "</style>\n",
       "<table border=\"1\" class=\"dataframe\">\n",
       "  <thead>\n",
       "    <tr style=\"text-align: right;\">\n",
       "      <th></th>\n",
       "      <th>Month</th>\n",
       "      <th>Region</th>\n",
       "      <th>Place of Residence</th>\n",
       "      <th>Number of Arrivals</th>\n",
       "    </tr>\n",
       "  </thead>\n",
       "  <tbody>\n",
       "    <tr>\n",
       "      <td>0</td>\n",
       "      <td>Nov-19</td>\n",
       "      <td>AMERICAS</td>\n",
       "      <td>Canada</td>\n",
       "      <td>11346</td>\n",
       "    </tr>\n",
       "    <tr>\n",
       "      <td>1</td>\n",
       "      <td>Nov-19</td>\n",
       "      <td>AMERICAS</td>\n",
       "      <td>USA</td>\n",
       "      <td>63276</td>\n",
       "    </tr>\n",
       "    <tr>\n",
       "      <td>2</td>\n",
       "      <td>Nov-19</td>\n",
       "      <td>AMERICAS</td>\n",
       "      <td>Other Markets in Americas</td>\n",
       "      <td>8115</td>\n",
       "    </tr>\n",
       "    <tr>\n",
       "      <td>3</td>\n",
       "      <td>Nov-19</td>\n",
       "      <td>SOUTHEAST ASIA</td>\n",
       "      <td>Brunei Darussalam</td>\n",
       "      <td>6363</td>\n",
       "    </tr>\n",
       "    <tr>\n",
       "      <td>4</td>\n",
       "      <td>Nov-19</td>\n",
       "      <td>SOUTHEAST ASIA</td>\n",
       "      <td>Indonesia</td>\n",
       "      <td>266651</td>\n",
       "    </tr>\n",
       "  </tbody>\n",
       "</table>\n",
       "</div>"
      ],
      "text/plain": [
       "    Month          Region         Place of Residence  Number of Arrivals\n",
       "0  Nov-19        AMERICAS                     Canada               11346\n",
       "1  Nov-19        AMERICAS                        USA               63276\n",
       "2  Nov-19        AMERICAS  Other Markets in Americas                8115\n",
       "3  Nov-19  SOUTHEAST ASIA          Brunei Darussalam                6363\n",
       "4  Nov-19  SOUTHEAST ASIA                  Indonesia              266651"
      ]
     },
     "execution_count": 1123,
     "metadata": {},
     "output_type": "execute_result"
    }
   ],
   "source": [
    "visitor.head()"
   ]
  },
  {
   "cell_type": "code",
   "execution_count": 970,
   "metadata": {},
   "outputs": [],
   "source": [
    "visitor['tot_arrival']=visitor.Month.map(visitor.groupby('Month')['Number of Arrivals'].sum())"
   ]
  },
  {
   "cell_type": "code",
   "execution_count": 971,
   "metadata": {},
   "outputs": [],
   "source": [
    "visitor['Month'] = visitor['Month'].apply(lambda x : datetime.strptime(x,'%b-%y').strftime('%Y-%m-%d'))"
   ]
  },
  {
   "cell_type": "code",
   "execution_count": 972,
   "metadata": {},
   "outputs": [
    {
     "data": {
      "text/html": [
       "<div>\n",
       "<style scoped>\n",
       "    .dataframe tbody tr th:only-of-type {\n",
       "        vertical-align: middle;\n",
       "    }\n",
       "\n",
       "    .dataframe tbody tr th {\n",
       "        vertical-align: top;\n",
       "    }\n",
       "\n",
       "    .dataframe thead th {\n",
       "        text-align: right;\n",
       "    }\n",
       "</style>\n",
       "<table border=\"1\" class=\"dataframe\">\n",
       "  <thead>\n",
       "    <tr style=\"text-align: right;\">\n",
       "      <th></th>\n",
       "      <th>Month</th>\n",
       "      <th>Region</th>\n",
       "      <th>Place of Residence</th>\n",
       "      <th>Number of Arrivals</th>\n",
       "      <th>tot_arrival</th>\n",
       "    </tr>\n",
       "  </thead>\n",
       "  <tbody>\n",
       "    <tr>\n",
       "      <td>0</td>\n",
       "      <td>2019-11-01</td>\n",
       "      <td>AMERICAS</td>\n",
       "      <td>Canada</td>\n",
       "      <td>11346</td>\n",
       "      <td>1532455</td>\n",
       "    </tr>\n",
       "    <tr>\n",
       "      <td>1</td>\n",
       "      <td>2019-11-01</td>\n",
       "      <td>AMERICAS</td>\n",
       "      <td>USA</td>\n",
       "      <td>63276</td>\n",
       "      <td>1532455</td>\n",
       "    </tr>\n",
       "    <tr>\n",
       "      <td>2</td>\n",
       "      <td>2019-11-01</td>\n",
       "      <td>AMERICAS</td>\n",
       "      <td>Other Markets in Americas</td>\n",
       "      <td>8115</td>\n",
       "      <td>1532455</td>\n",
       "    </tr>\n",
       "    <tr>\n",
       "      <td>3</td>\n",
       "      <td>2019-11-01</td>\n",
       "      <td>SOUTHEAST ASIA</td>\n",
       "      <td>Brunei Darussalam</td>\n",
       "      <td>6363</td>\n",
       "      <td>1532455</td>\n",
       "    </tr>\n",
       "    <tr>\n",
       "      <td>4</td>\n",
       "      <td>2019-11-01</td>\n",
       "      <td>SOUTHEAST ASIA</td>\n",
       "      <td>Indonesia</td>\n",
       "      <td>266651</td>\n",
       "      <td>1532455</td>\n",
       "    </tr>\n",
       "  </tbody>\n",
       "</table>\n",
       "</div>"
      ],
      "text/plain": [
       "        Month          Region         Place of Residence  Number of Arrivals  \\\n",
       "0  2019-11-01        AMERICAS                     Canada               11346   \n",
       "1  2019-11-01        AMERICAS                        USA               63276   \n",
       "2  2019-11-01        AMERICAS  Other Markets in Americas                8115   \n",
       "3  2019-11-01  SOUTHEAST ASIA          Brunei Darussalam                6363   \n",
       "4  2019-11-01  SOUTHEAST ASIA                  Indonesia              266651   \n",
       "\n",
       "   tot_arrival  \n",
       "0      1532455  \n",
       "1      1532455  \n",
       "2      1532455  \n",
       "3      1532455  \n",
       "4      1532455  "
      ]
     },
     "execution_count": 972,
     "metadata": {},
     "output_type": "execute_result"
    }
   ],
   "source": [
    "visitor.head()"
   ]
  },
  {
   "cell_type": "code",
   "execution_count": 973,
   "metadata": {},
   "outputs": [],
   "source": [
    "visitor=visitor.drop(['Region'], axis=1)\n",
    "visitor=visitor.drop(['Place of Residence'], axis=1)\n",
    "visitor=visitor.drop(['Number of Arrivals'], axis=1)"
   ]
  },
  {
   "cell_type": "code",
   "execution_count": 974,
   "metadata": {},
   "outputs": [],
   "source": [
    "visitor=visitor.rename(columns={\"Month\": \"month\"})"
   ]
  },
  {
   "cell_type": "code",
   "execution_count": 975,
   "metadata": {},
   "outputs": [
    {
     "data": {
      "text/html": [
       "<div>\n",
       "<style scoped>\n",
       "    .dataframe tbody tr th:only-of-type {\n",
       "        vertical-align: middle;\n",
       "    }\n",
       "\n",
       "    .dataframe tbody tr th {\n",
       "        vertical-align: top;\n",
       "    }\n",
       "\n",
       "    .dataframe thead th {\n",
       "        text-align: right;\n",
       "    }\n",
       "</style>\n",
       "<table border=\"1\" class=\"dataframe\">\n",
       "  <thead>\n",
       "    <tr style=\"text-align: right;\">\n",
       "      <th></th>\n",
       "      <th>month</th>\n",
       "      <th>tot_arrival</th>\n",
       "    </tr>\n",
       "  </thead>\n",
       "  <tbody>\n",
       "    <tr>\n",
       "      <td>0</td>\n",
       "      <td>2019-11-01</td>\n",
       "      <td>1532455</td>\n",
       "    </tr>\n",
       "    <tr>\n",
       "      <td>1</td>\n",
       "      <td>2019-11-01</td>\n",
       "      <td>1532455</td>\n",
       "    </tr>\n",
       "    <tr>\n",
       "      <td>2</td>\n",
       "      <td>2019-11-01</td>\n",
       "      <td>1532455</td>\n",
       "    </tr>\n",
       "    <tr>\n",
       "      <td>3</td>\n",
       "      <td>2019-11-01</td>\n",
       "      <td>1532455</td>\n",
       "    </tr>\n",
       "    <tr>\n",
       "      <td>4</td>\n",
       "      <td>2019-11-01</td>\n",
       "      <td>1532455</td>\n",
       "    </tr>\n",
       "  </tbody>\n",
       "</table>\n",
       "</div>"
      ],
      "text/plain": [
       "        month  tot_arrival\n",
       "0  2019-11-01      1532455\n",
       "1  2019-11-01      1532455\n",
       "2  2019-11-01      1532455\n",
       "3  2019-11-01      1532455\n",
       "4  2019-11-01      1532455"
      ]
     },
     "execution_count": 975,
     "metadata": {},
     "output_type": "execute_result"
    }
   ],
   "source": [
    "visitor.head()"
   ]
  },
  {
   "cell_type": "code",
   "execution_count": 976,
   "metadata": {},
   "outputs": [
    {
     "data": {
      "text/plain": [
       "(7400, 2)"
      ]
     },
     "execution_count": 976,
     "metadata": {},
     "output_type": "execute_result"
    }
   ],
   "source": [
    "visitor.shape"
   ]
  },
  {
   "cell_type": "code",
   "execution_count": 977,
   "metadata": {},
   "outputs": [
    {
     "data": {
      "text/plain": [
       "picture_url                             object\n",
       "host_is_superhost                       object\n",
       "neighbourhood_group_cleansed            object\n",
       "property_type                           object\n",
       "room_type                               object\n",
       "accommodates                             int64\n",
       "bathrooms                              float64\n",
       "bedrooms                               float64\n",
       "beds                                   float64\n",
       "bed_type                                object\n",
       "price                                  float64\n",
       "security_deposit                       float64\n",
       "cleaning_fee                           float64\n",
       "guests_included                          int64\n",
       "availability_30                          int64\n",
       "review_scores_rating                   float64\n",
       "cancellation_policy                     object\n",
       "reviews_per_month                      float64\n",
       "month                           datetime64[ns]\n",
       "num_amenities                            int64\n",
       "amenity_length                         float64\n",
       "dtype: object"
      ]
     },
     "execution_count": 977,
     "metadata": {},
     "output_type": "execute_result"
    }
   ],
   "source": [
    "df_3.dtypes"
   ]
  },
  {
   "cell_type": "code",
   "execution_count": 978,
   "metadata": {},
   "outputs": [],
   "source": [
    "# convert datetime to string\n",
    "df_3['month']=df_3['month'].astype(str)"
   ]
  },
  {
   "cell_type": "code",
   "execution_count": 979,
   "metadata": {},
   "outputs": [],
   "source": [
    "# df_new=pd.merge(df_3,visitor,how='left',left_on='month' ,right_on='month')\n",
    "df_new=pd.merge(df_3,visitor,how='left',on='month' )"
   ]
  },
  {
   "cell_type": "code",
   "execution_count": 980,
   "metadata": {},
   "outputs": [],
   "source": [
    "df_new=df_new.drop_duplicates()"
   ]
  },
  {
   "cell_type": "code",
   "execution_count": 981,
   "metadata": {},
   "outputs": [
    {
     "data": {
      "text/plain": [
       "(44025, 22)"
      ]
     },
     "execution_count": 981,
     "metadata": {},
     "output_type": "execute_result"
    }
   ],
   "source": [
    "df_new.shape"
   ]
  },
  {
   "cell_type": "code",
   "execution_count": 982,
   "metadata": {},
   "outputs": [
    {
     "data": {
      "text/html": [
       "<div>\n",
       "<style scoped>\n",
       "    .dataframe tbody tr th:only-of-type {\n",
       "        vertical-align: middle;\n",
       "    }\n",
       "\n",
       "    .dataframe tbody tr th {\n",
       "        vertical-align: top;\n",
       "    }\n",
       "\n",
       "    .dataframe thead th {\n",
       "        text-align: right;\n",
       "    }\n",
       "</style>\n",
       "<table border=\"1\" class=\"dataframe\">\n",
       "  <thead>\n",
       "    <tr style=\"text-align: right;\">\n",
       "      <th></th>\n",
       "      <th>picture_url</th>\n",
       "      <th>host_is_superhost</th>\n",
       "      <th>neighbourhood_group_cleansed</th>\n",
       "      <th>property_type</th>\n",
       "      <th>room_type</th>\n",
       "      <th>accommodates</th>\n",
       "      <th>bathrooms</th>\n",
       "      <th>bedrooms</th>\n",
       "      <th>beds</th>\n",
       "      <th>bed_type</th>\n",
       "      <th>...</th>\n",
       "      <th>cleaning_fee</th>\n",
       "      <th>guests_included</th>\n",
       "      <th>availability_30</th>\n",
       "      <th>review_scores_rating</th>\n",
       "      <th>cancellation_policy</th>\n",
       "      <th>reviews_per_month</th>\n",
       "      <th>month</th>\n",
       "      <th>num_amenities</th>\n",
       "      <th>amenity_length</th>\n",
       "      <th>tot_arrival</th>\n",
       "    </tr>\n",
       "  </thead>\n",
       "  <tbody>\n",
       "    <tr>\n",
       "      <td>0</td>\n",
       "      <td>https://a0.muscache.com/im/pictures/24485541/6...</td>\n",
       "      <td>f</td>\n",
       "      <td>North Region</td>\n",
       "      <td>Apartment</td>\n",
       "      <td>Private room</td>\n",
       "      <td>1</td>\n",
       "      <td>1.0</td>\n",
       "      <td>1.0</td>\n",
       "      <td>1.0</td>\n",
       "      <td>Real Bed</td>\n",
       "      <td>...</td>\n",
       "      <td>0.0</td>\n",
       "      <td>1</td>\n",
       "      <td>30</td>\n",
       "      <td>94.0</td>\n",
       "      <td>flexible</td>\n",
       "      <td>0.02</td>\n",
       "      <td>2019-03-01</td>\n",
       "      <td>9</td>\n",
       "      <td>9.111111</td>\n",
       "      <td>1564644</td>\n",
       "    </tr>\n",
       "    <tr>\n",
       "      <td>51</td>\n",
       "      <td>https://a0.muscache.com/im/pictures/36342984/6...</td>\n",
       "      <td>f</td>\n",
       "      <td>Central Region</td>\n",
       "      <td>Apartment</td>\n",
       "      <td>Private room</td>\n",
       "      <td>2</td>\n",
       "      <td>1.0</td>\n",
       "      <td>1.0</td>\n",
       "      <td>1.0</td>\n",
       "      <td>Real Bed</td>\n",
       "      <td>...</td>\n",
       "      <td>0.0</td>\n",
       "      <td>2</td>\n",
       "      <td>30</td>\n",
       "      <td>91.0</td>\n",
       "      <td>moderate</td>\n",
       "      <td>0.30</td>\n",
       "      <td>2019-03-01</td>\n",
       "      <td>13</td>\n",
       "      <td>7.769231</td>\n",
       "      <td>1564644</td>\n",
       "    </tr>\n",
       "    <tr>\n",
       "      <td>102</td>\n",
       "      <td>https://a0.muscache.com/im/pictures/20783922/1...</td>\n",
       "      <td>f</td>\n",
       "      <td>North Region</td>\n",
       "      <td>Apartment</td>\n",
       "      <td>Private room</td>\n",
       "      <td>1</td>\n",
       "      <td>1.0</td>\n",
       "      <td>1.0</td>\n",
       "      <td>1.0</td>\n",
       "      <td>Real Bed</td>\n",
       "      <td>...</td>\n",
       "      <td>0.0</td>\n",
       "      <td>1</td>\n",
       "      <td>30</td>\n",
       "      <td>98.0</td>\n",
       "      <td>flexible</td>\n",
       "      <td>0.21</td>\n",
       "      <td>2019-03-01</td>\n",
       "      <td>10</td>\n",
       "      <td>8.600000</td>\n",
       "      <td>1564644</td>\n",
       "    </tr>\n",
       "    <tr>\n",
       "      <td>153</td>\n",
       "      <td>https://a0.muscache.com/im/pictures/24453191/3...</td>\n",
       "      <td>f</td>\n",
       "      <td>East Region</td>\n",
       "      <td>others</td>\n",
       "      <td>Private room</td>\n",
       "      <td>6</td>\n",
       "      <td>1.0</td>\n",
       "      <td>2.0</td>\n",
       "      <td>3.0</td>\n",
       "      <td>Real Bed</td>\n",
       "      <td>...</td>\n",
       "      <td>54.0</td>\n",
       "      <td>4</td>\n",
       "      <td>27</td>\n",
       "      <td>80.0</td>\n",
       "      <td>moderate</td>\n",
       "      <td>0.14</td>\n",
       "      <td>2019-03-01</td>\n",
       "      <td>26</td>\n",
       "      <td>13.000000</td>\n",
       "      <td>1564644</td>\n",
       "    </tr>\n",
       "    <tr>\n",
       "      <td>204</td>\n",
       "      <td>https://a0.muscache.com/im/pictures/2440674/ac...</td>\n",
       "      <td>f</td>\n",
       "      <td>East Region</td>\n",
       "      <td>House</td>\n",
       "      <td>Private room</td>\n",
       "      <td>3</td>\n",
       "      <td>0.5</td>\n",
       "      <td>1.0</td>\n",
       "      <td>1.0</td>\n",
       "      <td>Real Bed</td>\n",
       "      <td>...</td>\n",
       "      <td>27.0</td>\n",
       "      <td>1</td>\n",
       "      <td>27</td>\n",
       "      <td>80.0</td>\n",
       "      <td>moderate</td>\n",
       "      <td>0.22</td>\n",
       "      <td>2019-03-01</td>\n",
       "      <td>22</td>\n",
       "      <td>11.090909</td>\n",
       "      <td>1564644</td>\n",
       "    </tr>\n",
       "    <tr>\n",
       "      <td>255</td>\n",
       "      <td>https://a0.muscache.com/im/pictures/568743/7bc...</td>\n",
       "      <td>f</td>\n",
       "      <td>East Region</td>\n",
       "      <td>House</td>\n",
       "      <td>Private room</td>\n",
       "      <td>3</td>\n",
       "      <td>0.5</td>\n",
       "      <td>1.0</td>\n",
       "      <td>2.0</td>\n",
       "      <td>Real Bed</td>\n",
       "      <td>...</td>\n",
       "      <td>27.0</td>\n",
       "      <td>1</td>\n",
       "      <td>27</td>\n",
       "      <td>86.0</td>\n",
       "      <td>moderate</td>\n",
       "      <td>0.31</td>\n",
       "      <td>2019-03-01</td>\n",
       "      <td>19</td>\n",
       "      <td>10.210526</td>\n",
       "      <td>1564644</td>\n",
       "    </tr>\n",
       "    <tr>\n",
       "      <td>306</td>\n",
       "      <td>https://a0.muscache.com/im/pictures/24395705/d...</td>\n",
       "      <td>f</td>\n",
       "      <td>East Region</td>\n",
       "      <td>House</td>\n",
       "      <td>Private room</td>\n",
       "      <td>6</td>\n",
       "      <td>1.0</td>\n",
       "      <td>1.0</td>\n",
       "      <td>7.0</td>\n",
       "      <td>Real Bed</td>\n",
       "      <td>...</td>\n",
       "      <td>68.0</td>\n",
       "      <td>4</td>\n",
       "      <td>29</td>\n",
       "      <td>80.0</td>\n",
       "      <td>strict_14_with_grace_period</td>\n",
       "      <td>0.24</td>\n",
       "      <td>2019-03-01</td>\n",
       "      <td>20</td>\n",
       "      <td>11.350000</td>\n",
       "      <td>1564644</td>\n",
       "    </tr>\n",
       "    <tr>\n",
       "      <td>357</td>\n",
       "      <td>https://a0.muscache.com/im/pictures/2497358/96...</td>\n",
       "      <td>f</td>\n",
       "      <td>Central Region</td>\n",
       "      <td>Apartment</td>\n",
       "      <td>Private room</td>\n",
       "      <td>1</td>\n",
       "      <td>1.0</td>\n",
       "      <td>1.0</td>\n",
       "      <td>1.0</td>\n",
       "      <td>Real Bed</td>\n",
       "      <td>...</td>\n",
       "      <td>50.0</td>\n",
       "      <td>9</td>\n",
       "      <td>16</td>\n",
       "      <td>95.0</td>\n",
       "      <td>strict_14_with_grace_period</td>\n",
       "      <td>0.16</td>\n",
       "      <td>2019-03-01</td>\n",
       "      <td>13</td>\n",
       "      <td>7.923077</td>\n",
       "      <td>1564644</td>\n",
       "    </tr>\n",
       "    <tr>\n",
       "      <td>408</td>\n",
       "      <td>https://a0.muscache.com/im/pictures/efe4b6be-3...</td>\n",
       "      <td>t</td>\n",
       "      <td>East Region</td>\n",
       "      <td>others</td>\n",
       "      <td>Private room</td>\n",
       "      <td>1</td>\n",
       "      <td>1.0</td>\n",
       "      <td>1.0</td>\n",
       "      <td>1.0</td>\n",
       "      <td>Real Bed</td>\n",
       "      <td>...</td>\n",
       "      <td>0.0</td>\n",
       "      <td>1</td>\n",
       "      <td>1</td>\n",
       "      <td>99.0</td>\n",
       "      <td>strict_14_with_grace_period</td>\n",
       "      <td>1.98</td>\n",
       "      <td>2019-03-01</td>\n",
       "      <td>34</td>\n",
       "      <td>12.117647</td>\n",
       "      <td>1564644</td>\n",
       "    </tr>\n",
       "    <tr>\n",
       "      <td>459</td>\n",
       "      <td>https://a0.muscache.com/im/pictures/8bbc4240-9...</td>\n",
       "      <td>t</td>\n",
       "      <td>East Region</td>\n",
       "      <td>others</td>\n",
       "      <td>Private room</td>\n",
       "      <td>2</td>\n",
       "      <td>1.0</td>\n",
       "      <td>1.0</td>\n",
       "      <td>2.0</td>\n",
       "      <td>Real Bed</td>\n",
       "      <td>...</td>\n",
       "      <td>0.0</td>\n",
       "      <td>1</td>\n",
       "      <td>0</td>\n",
       "      <td>99.0</td>\n",
       "      <td>strict_14_with_grace_period</td>\n",
       "      <td>2.19</td>\n",
       "      <td>2019-03-01</td>\n",
       "      <td>32</td>\n",
       "      <td>12.093750</td>\n",
       "      <td>1564644</td>\n",
       "    </tr>\n",
       "  </tbody>\n",
       "</table>\n",
       "<p>10 rows × 22 columns</p>\n",
       "</div>"
      ],
      "text/plain": [
       "                                           picture_url host_is_superhost  \\\n",
       "0    https://a0.muscache.com/im/pictures/24485541/6...                 f   \n",
       "51   https://a0.muscache.com/im/pictures/36342984/6...                 f   \n",
       "102  https://a0.muscache.com/im/pictures/20783922/1...                 f   \n",
       "153  https://a0.muscache.com/im/pictures/24453191/3...                 f   \n",
       "204  https://a0.muscache.com/im/pictures/2440674/ac...                 f   \n",
       "255  https://a0.muscache.com/im/pictures/568743/7bc...                 f   \n",
       "306  https://a0.muscache.com/im/pictures/24395705/d...                 f   \n",
       "357  https://a0.muscache.com/im/pictures/2497358/96...                 f   \n",
       "408  https://a0.muscache.com/im/pictures/efe4b6be-3...                 t   \n",
       "459  https://a0.muscache.com/im/pictures/8bbc4240-9...                 t   \n",
       "\n",
       "    neighbourhood_group_cleansed property_type     room_type  accommodates  \\\n",
       "0                   North Region     Apartment  Private room             1   \n",
       "51                Central Region     Apartment  Private room             2   \n",
       "102                 North Region     Apartment  Private room             1   \n",
       "153                  East Region        others  Private room             6   \n",
       "204                  East Region         House  Private room             3   \n",
       "255                  East Region         House  Private room             3   \n",
       "306                  East Region         House  Private room             6   \n",
       "357               Central Region     Apartment  Private room             1   \n",
       "408                  East Region        others  Private room             1   \n",
       "459                  East Region        others  Private room             2   \n",
       "\n",
       "     bathrooms  bedrooms  beds  bed_type  ...  cleaning_fee  guests_included  \\\n",
       "0          1.0       1.0   1.0  Real Bed  ...           0.0                1   \n",
       "51         1.0       1.0   1.0  Real Bed  ...           0.0                2   \n",
       "102        1.0       1.0   1.0  Real Bed  ...           0.0                1   \n",
       "153        1.0       2.0   3.0  Real Bed  ...          54.0                4   \n",
       "204        0.5       1.0   1.0  Real Bed  ...          27.0                1   \n",
       "255        0.5       1.0   2.0  Real Bed  ...          27.0                1   \n",
       "306        1.0       1.0   7.0  Real Bed  ...          68.0                4   \n",
       "357        1.0       1.0   1.0  Real Bed  ...          50.0                9   \n",
       "408        1.0       1.0   1.0  Real Bed  ...           0.0                1   \n",
       "459        1.0       1.0   2.0  Real Bed  ...           0.0                1   \n",
       "\n",
       "     availability_30  review_scores_rating          cancellation_policy  \\\n",
       "0                 30                  94.0                     flexible   \n",
       "51                30                  91.0                     moderate   \n",
       "102               30                  98.0                     flexible   \n",
       "153               27                  80.0                     moderate   \n",
       "204               27                  80.0                     moderate   \n",
       "255               27                  86.0                     moderate   \n",
       "306               29                  80.0  strict_14_with_grace_period   \n",
       "357               16                  95.0  strict_14_with_grace_period   \n",
       "408                1                  99.0  strict_14_with_grace_period   \n",
       "459                0                  99.0  strict_14_with_grace_period   \n",
       "\n",
       "     reviews_per_month       month  num_amenities amenity_length  tot_arrival  \n",
       "0                 0.02  2019-03-01              9       9.111111      1564644  \n",
       "51                0.30  2019-03-01             13       7.769231      1564644  \n",
       "102               0.21  2019-03-01             10       8.600000      1564644  \n",
       "153               0.14  2019-03-01             26      13.000000      1564644  \n",
       "204               0.22  2019-03-01             22      11.090909      1564644  \n",
       "255               0.31  2019-03-01             19      10.210526      1564644  \n",
       "306               0.24  2019-03-01             20      11.350000      1564644  \n",
       "357               0.16  2019-03-01             13       7.923077      1564644  \n",
       "408               1.98  2019-03-01             34      12.117647      1564644  \n",
       "459               2.19  2019-03-01             32      12.093750      1564644  \n",
       "\n",
       "[10 rows x 22 columns]"
      ]
     },
     "execution_count": 982,
     "metadata": {},
     "output_type": "execute_result"
    }
   ],
   "source": [
    "df_new.head(10)"
   ]
  },
  {
   "cell_type": "markdown",
   "metadata": {},
   "source": [
    "# Feature Engineering (One-Hot Encoding)"
   ]
  },
  {
   "cell_type": "code",
   "execution_count": 983,
   "metadata": {},
   "outputs": [
    {
     "data": {
      "text/plain": [
       "['picture_url',\n",
       " 'host_is_superhost',\n",
       " 'neighbourhood_group_cleansed',\n",
       " 'property_type',\n",
       " 'room_type',\n",
       " 'bed_type',\n",
       " 'cancellation_policy',\n",
       " 'month']"
      ]
     },
     "execution_count": 983,
     "metadata": {},
     "output_type": "execute_result"
    }
   ],
   "source": [
    "list(df_new.select_dtypes(['object']).columns)"
   ]
  },
  {
   "cell_type": "code",
   "execution_count": 984,
   "metadata": {},
   "outputs": [],
   "source": [
    "df_new_dum = pd.get_dummies(df_new, columns=['host_is_superhost',\n",
    " 'neighbourhood_group_cleansed',\n",
    " 'property_type',\n",
    " 'room_type',\n",
    " 'bed_type',\n",
    " 'cancellation_policy',\n",
    " 'month'],drop_first = True)"
   ]
  },
  {
   "cell_type": "code",
   "execution_count": 985,
   "metadata": {
    "scrolled": true
   },
   "outputs": [
    {
     "data": {
      "text/plain": [
       "(44025, 43)"
      ]
     },
     "execution_count": 985,
     "metadata": {},
     "output_type": "execute_result"
    }
   ],
   "source": [
    "df_new_dum.shape"
   ]
  },
  {
   "cell_type": "code",
   "execution_count": 986,
   "metadata": {},
   "outputs": [],
   "source": [
    "df_new_dum.rename(columns = lambda x: x.replace(' ', '_'), inplace=True)"
   ]
  },
  {
   "cell_type": "code",
   "execution_count": 987,
   "metadata": {},
   "outputs": [],
   "source": [
    "df_new_dum.to_csv('listings_final.csv',index=False)"
   ]
  },
  {
   "cell_type": "markdown",
   "metadata": {},
   "source": [
    "# EDA"
   ]
  },
  {
   "cell_type": "code",
   "execution_count": 999,
   "metadata": {
    "scrolled": true
   },
   "outputs": [
    {
     "data": {
      "text/plain": [
       "Index(['picture_url', 'host_is_superhost', 'neighbourhood_group_cleansed',\n",
       "       'property_type', 'room_type', 'accommodates', 'bathrooms', 'bedrooms',\n",
       "       'beds', 'bed_type', 'price', 'security_deposit', 'cleaning_fee',\n",
       "       'guests_included', 'availability_30', 'review_scores_rating',\n",
       "       'cancellation_policy', 'reviews_per_month', 'month', 'num_amenities',\n",
       "       'amenity_length', 'tot_arrival'],\n",
       "      dtype='object')"
      ]
     },
     "execution_count": 999,
     "metadata": {},
     "output_type": "execute_result"
    }
   ],
   "source": [
    "df_new.columns"
   ]
  },
  {
   "cell_type": "code",
   "execution_count": 1167,
   "metadata": {
    "scrolled": false
   },
   "outputs": [
    {
     "data": {
      "image/png": "[encoded data removed]",
      "text/plain": [
       "<Figure size 720x288 with 1 Axes>"
      ]
     },
     "metadata": {
      "needs_background": "light"
     },
     "output_type": "display_data"
    },
    {
     "data": {
      "image/png": "[encoded data removed]",
      "text/plain": [
       "<Figure size 720x288 with 1 Axes>"
      ]
     },
     "metadata": {
      "needs_background": "light"
     },
     "output_type": "display_data"
    },
    {
     "data": {
      "image/png": "[encoded data removed]",
      "text/plain": [
       "<Figure size 720x288 with 1 Axes>"
      ]
     },
     "metadata": {
      "needs_background": "light"
     },
     "output_type": "display_data"
    },
    {
     "data": {
      "image/png": "[encoded data removed]",
      "text/plain": [
       "<Figure size 720x288 with 1 Axes>"
      ]
     },
     "metadata": {
      "needs_background": "light"
     },
     "output_type": "display_data"
    },
    {
     "data": {
      "image/png": "[encoded data removed]",
      "text/plain": [
       "<Figure size 720x288 with 1 Axes>"
      ]
     },
     "metadata": {
      "needs_background": "light"
     },
     "output_type": "display_data"
    },
    {
     "data": {
      "image/png": "[encoded data removed]",
      "text/plain": [
       "<Figure size 720x288 with 1 Axes>"
      ]
     },
     "metadata": {
      "needs_background": "light"
     },
     "output_type": "display_data"
    },
    {
     "data": {
      "image/png": "[encoded data removed]",
      "text/plain": [
       "<Figure size 720x288 with 1 Axes>"
      ]
     },
     "metadata": {
      "needs_background": "light"
     },
     "output_type": "display_data"
    }
   ],
   "source": [
    "cols = ['host_is_superhost',\n",
    " 'neighbourhood_group_cleansed',\n",
    " 'property_type',\n",
    " 'room_type',\n",
    " 'bed_type',\n",
    " 'cancellation_policy',\n",
    " 'month']\n",
    "for col in cols:\n",
    "    plt.figure(figsize=(10,4))\n",
    "    ax = sns.boxplot(x=col,y='price',data=df_new)\n",
    "    plt.title(str.upper(col) + ' vs PRICE')\n",
    "    #plt.xticks(rotation=45)\n",
    "    plt.tight_layout()"
   ]
  },
  {
   "cell_type": "code",
   "execution_count": 1000,
   "metadata": {},
   "outputs": [],
   "source": [
    "cols_num = ['accommodates', 'bathrooms', 'bedrooms',\n",
    "       'beds', 'security_deposit', 'cleaning_fee',\n",
    "       'guests_included', 'availability_30', 'review_scores_rating',\n",
    "       'reviews_per_month', 'num_amenities',\n",
    "       'amenity_length', 'tot_arrival']"
   ]
  },
  {
   "cell_type": "code",
   "execution_count": 1168,
   "metadata": {
    "scrolled": false
   },
   "outputs": [
    {
     "name": "stderr",
     "output_type": "stream",
     "text": [
      "C:\\Users\\ivyde\\Anaconda3\\lib\\site-packages\\ipykernel_launcher.py:2: RuntimeWarning: More than 20 figures have been opened. Figures created through the pyplot interface (`matplotlib.pyplot.figure`) are retained until explicitly closed and may consume too much memory. (To control this warning, see the rcParam `figure.max_open_warning`).\n",
      "  \n",
      "C:\\Users\\ivyde\\Anaconda3\\lib\\site-packages\\seaborn\\axisgrid.py:311: RuntimeWarning: More than 20 figures have been opened. Figures created through the pyplot interface (`matplotlib.pyplot.figure`) are retained until explicitly closed and may consume too much memory. (To control this warning, see the rcParam `figure.max_open_warning`).\n",
      "  fig, axes = plt.subplots(nrow, ncol, **kwargs)\n",
      "C:\\Users\\ivyde\\Anaconda3\\lib\\site-packages\\ipykernel_launcher.py:2: RuntimeWarning: More than 20 figures have been opened. Figures created through the pyplot interface (`matplotlib.pyplot.figure`) are retained until explicitly closed and may consume too much memory. (To control this warning, see the rcParam `figure.max_open_warning`).\n",
      "  \n",
      "C:\\Users\\ivyde\\Anaconda3\\lib\\site-packages\\seaborn\\axisgrid.py:311: RuntimeWarning: More than 20 figures have been opened. Figures created through the pyplot interface (`matplotlib.pyplot.figure`) are retained until explicitly closed and may consume too much memory. (To control this warning, see the rcParam `figure.max_open_warning`).\n",
      "  fig, axes = plt.subplots(nrow, ncol, **kwargs)\n",
      "C:\\Users\\ivyde\\Anaconda3\\lib\\site-packages\\ipykernel_launcher.py:2: RuntimeWarning: More than 20 figures have been opened. Figures created through the pyplot interface (`matplotlib.pyplot.figure`) are retained until explicitly closed and may consume too much memory. (To control this warning, see the rcParam `figure.max_open_warning`).\n",
      "  \n",
      "C:\\Users\\ivyde\\Anaconda3\\lib\\site-packages\\seaborn\\axisgrid.py:311: RuntimeWarning: More than 20 figures have been opened. Figures created through the pyplot interface (`matplotlib.pyplot.figure`) are retained until explicitly closed and may consume too much memory. (To control this warning, see the rcParam `figure.max_open_warning`).\n",
      "  fig, axes = plt.subplots(nrow, ncol, **kwargs)\n"
     ]
    },
    {
     "data": {
      "text/plain": [
       "<Figure size 720x288 with 0 Axes>"
      ]
     },
     "metadata": {},
     "output_type": "display_data"
    },
    {
     "data": {
      "image/png": "[encoded data removed]",
      "text/plain": [
       "<Figure size 360x360 with 1 Axes>"
      ]
     },
     "metadata": {
      "needs_background": "light"
     },
     "output_type": "display_data"
    },
    {
     "data": {
      "text/plain": [
       "<Figure size 720x288 with 0 Axes>"
      ]
     },
     "metadata": {},
     "output_type": "display_data"
    },
    {
     "data": {
      "image/png": "[encoded data removed]",
      "text/plain": [
       "<Figure size 360x360 with 1 Axes>"
      ]
     },
     "metadata": {
      "needs_background": "light"
     },
     "output_type": "display_data"
    },
    {
     "data": {
      "text/plain": [
       "<Figure size 720x288 with 0 Axes>"
      ]
     },
     "metadata": {},
     "output_type": "display_data"
    },
    {
     "data": {
      "image/png": "[encoded data removed]",
      "text/plain": [
       "<Figure size 360x360 with 1 Axes>"
      ]
     },
     "metadata": {
      "needs_background": "light"
     },
     "output_type": "display_data"
    },
    {
     "data": {
      "text/plain": [
       "<Figure size 720x288 with 0 Axes>"
      ]
     },
     "metadata": {},
     "output_type": "display_data"
    },
    {
     "data": {
      "image/png": "[encoded data removed]",
      "text/plain": [
       "<Figure size 360x360 with 1 Axes>"
      ]
     },
     "metadata": {
      "needs_background": "light"
     },
     "output_type": "display_data"
    },
    {
     "data": {
      "text/plain": [
       "<Figure size 720x288 with 0 Axes>"
      ]
     },
     "metadata": {},
     "output_type": "display_data"
    },
    {
     "data": {
      "image/png": "[encoded data removed]",
      "text/plain": [
       "<Figure size 360x360 with 1 Axes>"
      ]
     },
     "metadata": {
      "needs_background": "light"
     },
     "output_type": "display_data"
    },
    {
     "data": {
      "text/plain": [
       "<Figure size 720x288 with 0 Axes>"
      ]
     },
     "metadata": {},
     "output_type": "display_data"
    },
    {
     "data": {
      "image/png": "[encoded data removed]",
      "text/plain": [
       "<Figure size 360x360 with 1 Axes>"
      ]
     },
     "metadata": {
      "needs_background": "light"
     },
     "output_type": "display_data"
    },
    {
     "data": {
      "text/plain": [
       "<Figure size 720x288 with 0 Axes>"
      ]
     },
     "metadata": {},
     "output_type": "display_data"
    },
    {
     "data": {
      "image/png": "[encoded data removed]",
      "text/plain": [
       "<Figure size 360x360 with 1 Axes>"
      ]
     },
     "metadata": {
      "needs_background": "light"
     },
     "output_type": "display_data"
    },
    {
     "data": {
      "text/plain": [
       "<Figure size 720x288 with 0 Axes>"
      ]
     },
     "metadata": {},
     "output_type": "display_data"
    },
    {
     "data": {
      "image/png": "[encoded data removed]",
      "text/plain": [
       "<Figure size 360x360 with 1 Axes>"
      ]
     },
     "metadata": {
      "needs_background": "light"
     },
     "output_type": "display_data"
    },
    {
     "data": {
      "text/plain": [
       "<Figure size 720x288 with 0 Axes>"
      ]
     },
     "metadata": {},
     "output_type": "display_data"
    },
    {
     "data": {
      "image/png": "[encoded data removed]",
      "text/plain": [
       "<Figure size 360x360 with 1 Axes>"
      ]
     },
     "metadata": {
      "needs_background": "light"
     },
     "output_type": "display_data"
    },
    {
     "data": {
      "text/plain": [
       "<Figure size 720x288 with 0 Axes>"
      ]
     },
     "metadata": {},
     "output_type": "display_data"
    },
    {
     "data": {
      "image/png": "[encoded data removed]",
      "text/plain": [
       "<Figure size 360x360 with 1 Axes>"
      ]
     },
     "metadata": {
      "needs_background": "light"
     },
     "output_type": "display_data"
    },
    {
     "data": {
      "text/plain": [
       "<Figure size 720x288 with 0 Axes>"
      ]
     },
     "metadata": {},
     "output_type": "display_data"
    },
    {
     "data": {
      "image/png": "[encoded data removed]",
      "text/plain": [
       "<Figure size 360x360 with 1 Axes>"
      ]
     },
     "metadata": {
      "needs_background": "light"
     },
     "output_type": "display_data"
    },
    {
     "data": {
      "text/plain": [
       "<Figure size 720x288 with 0 Axes>"
      ]
     },
     "metadata": {},
     "output_type": "display_data"
    },
    {
     "data": {
      "image/png": "[encoded data removed]",
      "text/plain": [
       "<Figure size 360x360 with 1 Axes>"
      ]
     },
     "metadata": {
      "needs_background": "light"
     },
     "output_type": "display_data"
    },
    {
     "data": {
      "text/plain": [
       "<Figure size 720x288 with 0 Axes>"
      ]
     },
     "metadata": {},
     "output_type": "display_data"
    },
    {
     "data": {
      "image/png": "[encoded data removed]",
      "text/plain": [
       "<Figure size 360x360 with 1 Axes>"
      ]
     },
     "metadata": {
      "needs_background": "light"
     },
     "output_type": "display_data"
    }
   ],
   "source": [
    "for col in cols_num:\n",
    "    plt.figure(figsize=(10,4))\n",
    "    sns.lmplot(x=col,y='price',data=df_new)\n",
    "    plt.title(str.upper(col) + ' vs PRICE')\n",
    "    plt.tight_layout()"
   ]
  }
 ],
 "metadata": {
  "kernelspec": {
   "display_name": "Python 3",
   "language": "python",
   "name": "python3"
  },
  "language_info": {
   "codemirror_mode": {
    "name": "ipython",
    "version": 3
   },
   "file_extension": ".py",
   "mimetype": "text/x-python",
   "name": "python",
   "nbconvert_exporter": "python",
   "pygments_lexer": "ipython3",
   "version": "3.7.3"
  }
 },
 "nbformat": 4,
 "nbformat_minor": 2
}
